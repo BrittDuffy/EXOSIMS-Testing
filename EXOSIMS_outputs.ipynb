{
 "cells": [
  {
   "cell_type": "code",
   "execution_count": 1,
   "metadata": {
    "collapsed": false
   },
   "outputs": [],
   "source": [
    "import numpy as np\n",
    "import math as ma\n",
    "import matplotlib.pyplot as plt\n",
    "import astropy.units as u\n",
    "import pickle, json, warnings, astropy, os\n",
    "from matplotlib.colors import LogNorm\n",
    "from astropy.io.votable import parse\n",
    "%matplotlib inline"
   ]
  },
  {
   "cell_type": "markdown",
   "metadata": {},
   "source": [
    "# Plotting Tool"
   ]
  },
  {
   "cell_type": "code",
   "execution_count": 2,
   "metadata": {
    "collapsed": true
   },
   "outputs": [],
   "source": [
    "def plotstuff(ax,x,y,xlabel,ylabel,marker,markersize,color,linestyle='none',linewidth=0,**kw):\n",
    "\n",
    "    ax.plot(x,y,marker=marker,ms=markersize,color=color,ls=linestyle,lw=linewidth,**kw)\n",
    "    ax.set_xlabel('%s'%xlabel,fontsize=20)\n",
    "    ax.set_ylabel('%s'%ylabel,fontsize=20)\n",
    "    return ax"
   ]
  },
  {
   "cell_type": "markdown",
   "metadata": {},
   "source": [
    "## Load Completeness and Simulation Results"
   ]
  },
  {
   "cell_type": "code",
   "execution_count": 3,
   "metadata": {
    "collapsed": false
   },
   "outputs": [
    {
     "name": "stdout",
     "output_type": "stream",
     "text": [
      "Upper level keys: \n",
      "\t['star_prop', 'DRM', 'synplanet_prop', 'etc_data', 'empplanet_prop', 'AllSpecs']\n"
     ]
    }
   ],
   "source": [
    "baseFolder = '/Users/rpatel/Dropbox/Research/WFIRST/EXOSIMSTesting/'\n",
    "resultFolder = os.path.join(baseFolder,'SimResults')\n",
    "scriptFolder = os.path.join(baseFolder,'scripts')\n",
    "compFolder = os.path.join(baseFolder,'Completeness')\n",
    "# ===============  LOAD JSON SCRIPT FILE =================\n",
    "\n",
    "# jfile = 'template_WFIRST_KeplerLike.json'\n",
    "# jfile = 'template_WFIRST_EarthTwinHabZone.json'\n",
    "# jfile = 'template_WFIRST_KnownRV.json'\n",
    "\n",
    "jfile = 'template_rpateltest_KnownRV.json'\n",
    "scriptfile = os.path.join(scriptFolder,jfile)\n",
    "script = open(scriptfile).read()\n",
    "specs_from_file = json.loads(script)\n",
    "\n",
    "# ===============  LOAD COMPLETENESS FILE ===============\n",
    "\n",
    "# cfile = 'EarthTwinHabZone2.comp'\n",
    "# cfile = 'KeplerLike1.comp'\n",
    "cfile = 'KnownRVPlanetsd2a524f616563075bd74bff5e62577c9.comp'\n",
    "fle = os.path.join(compFolder,cfile)\n",
    "dataCOMP = pickle.load(open(fle,'rb'))\n",
    "\n",
    "# ===============  LOAD SIMULATION RESULTS ===============\n",
    "\n",
    "simresults = 'simresults_2yrs_5E+07stars_rpateltest_KnownRV.pickle'\n",
    "basesim =  simresults.strip('simresults_').strip('.pickle')\n",
    "\n",
    "simfile = os.path.join(resultFolder,simresults)\n",
    "simr = pickle.load(open(simfile,'rb'))\n",
    "\n",
    "print 'Upper level keys: \\n\\t', simr.keys()"
   ]
  },
  {
   "cell_type": "code",
   "execution_count": 30,
   "metadata": {
    "collapsed": false
   },
   "outputs": [
    {
     "data": {
      "text/plain": [
       "<matplotlib.image.AxesImage at 0x11e0bd990>"
      ]
     },
     "execution_count": 30,
     "metadata": {},
     "output_type": "execute_result"
    }
   ],
   "source": [
    "plt.figure()\n",
    "plt.imshow(dataCOMP + 1,norm=LogNorm(),cmap='viridis')"
   ]
  },
  {
   "cell_type": "markdown",
   "metadata": {
    "collapsed": true
   },
   "source": [
    "## Stellar Data"
   ]
  },
  {
   "cell_type": "code",
   "execution_count": 23,
   "metadata": {
    "collapsed": false
   },
   "outputs": [
    {
     "name": "stdout",
     "output_type": "stream",
     "text": [
      "Star property keys: \n",
      "\t['Bmag', 'dist', 'maxintTime', 'BV', 'Binary_Cut', 'Spec', 'rv', 'Vmag', 'Imag', 'Kmag', 'Lum', 'pmdec', 'MsEst', 'Name', 'nStars', 'Jmag', 'Hmag', 'parx', 'MsTrue', 'Umag', 'comp0', 'MV', 'coords', 'pmra']\n"
     ]
    }
   ],
   "source": [
    "sp = simr['star_prop']\n",
    "print 'Star property keys: \\n\\t', sp.keys()"
   ]
  },
  {
   "cell_type": "markdown",
   "metadata": {
    "collapsed": true
   },
   "source": [
    "## Simulated Planet Data"
   ]
  },
  {
   "cell_type": "code",
   "execution_count": 24,
   "metadata": {
    "collapsed": false
   },
   "outputs": [
    {
     "name": "stdout",
     "output_type": "stream",
     "text": [
      "No simulated planets from this simulation\n"
     ]
    }
   ],
   "source": [
    "pd_s = simr['synplanet_prop']\n",
    "if pd_s is not None:\n",
    "    print 'Simulated Planet property keys: \\n\\t', pd_s.keys()\n",
    "else: print 'No simulated planets from this simulation'"
   ]
  },
  {
   "cell_type": "markdown",
   "metadata": {
    "collapsed": true
   },
   "source": [
    "## Empirical Planet Data"
   ]
  },
  {
   "cell_type": "code",
   "execution_count": 25,
   "metadata": {
    "collapsed": false
   },
   "outputs": [
    {
     "name": "stdout",
     "output_type": "stream",
     "text": [
      "Empirical Planet property keys: \n",
      "\t['Rp', 'I', 'fEZ', 'v', 'sInds', 'O', 'p', 'r', 'Mp', 'w', 'nplans', 'e', 'plan2star', 'sma']\n"
     ]
    }
   ],
   "source": [
    "pd_e = simr['empplanet_prop']\n",
    "if pd_e is not None:\n",
    "    print 'Empirical Planet property keys: \\n\\t', pd_e.keys()\n",
    "else: print 'No empirical planets from this simulation'"
   ]
  },
  {
   "cell_type": "markdown",
   "metadata": {},
   "source": [
    "## DRM and Specs of simulation"
   ]
  },
  {
   "cell_type": "code",
   "execution_count": 10,
   "metadata": {
    "collapsed": true
   },
   "outputs": [],
   "source": [
    "DRM = simr['DRM']\n",
    "AllSpecs = simr['AllSpecs']"
   ]
  },
  {
   "cell_type": "code",
   "execution_count": 31,
   "metadata": {
    "collapsed": false
   },
   "outputs": [],
   "source": [
    "# indices of targets observed in order including repeats\n",
    "target_obsind = np.array([dt['target_ind'] for dt in DRM])\n",
    "\n",
    "# indices of all planets detected for each star.\n",
    "try: planet_detind = np.array([dt['plan_inds'] for dt in DRM])\n",
    "except: print 'No planets detected?'\n",
    "\n",
    "#arrival time array\n",
    "arrival_time = np.array([dt['arrival_time'] for dt in DRM])\n",
    "\n",
    "# angular distance of each detection ? mas\n",
    "#det_wa = np.array([dt['det_WA'] for dt in DRM])\n",
    "\n",
    "# status of any detections\n",
    "det_status = np.array([dt['det_status'] for dt in DRM])\n",
    "\n",
    "# detection of planets\n",
    "\n",
    "target_observed = sp['Name'][target_obsind]\n",
    "detstatus_array = np.array([ dt['det_status'] for dt in DRM])"
   ]
  },
  {
   "cell_type": "markdown",
   "metadata": {},
   "source": [
    "## Target Plots"
   ]
  },
  {
   "cell_type": "markdown",
   "metadata": {},
   "source": [
    "### Red circles are targets that were observed"
   ]
  },
  {
   "cell_type": "code",
   "execution_count": 46,
   "metadata": {
    "collapsed": false
   },
   "outputs": [],
   "source": [
    "# SKY DISTRIBUTION OF TARGETS\n",
    "save_plots = False\n",
    "\n",
    "dirsave = os.path.join(baseFolder,'SimPlots')\n",
    "\n",
    "coords = sp['coords']\n",
    "ra_rad, dec_rad = coords.ra.wrap_at(180*u.deg).radian, coords.dec.radian\n",
    "\n",
    "BV, MV = sp['BV'], sp['MV']\n",
    "dist = sp['dist']\n",
    "\n",
    "plt.figure(figsize=(20,20))\n",
    "plt.subplot(111,projection='aitoff')\n",
    "plt.plot(ra_rad,dec_rad,'o',ms=5,alpha=0.3)\n",
    "plt.plot(ra_rad[target_obsind],dec_rad[target_obsind],'ro',ms=5,mfc='none',mec='r',mew=3)\n",
    "plt.title('Targets in Survey vs. Targets observed; %s' %basesim)    \n",
    "if save_plots: plt.savefig(os.path.join(dirsave,'sky_targets_%s.png'%basesim))\n",
    "\n",
    "# Observation Order\n",
    "plt.figure(figsize=(20,20))\n",
    "plt.subplot(111,projection='aitoff')\n",
    "plt.plot(ra_rad,dec_rad,'bo',ms=4,alpha=0.3)\n",
    "plt.plot(ra_rad[target_obsind],dec_rad[target_obsind],'r-',mew=2,lw=0.5,alpha=0.4)\n",
    "\n",
    "for i,j in enumerate(target_obsind):\n",
    "    if i == 0:\n",
    "        plt.plot(ra_rad[j],dec_rad[j],'m*',ms=16)\n",
    "    plt.text(ra_rad[j],dec_rad[j],str(i+1),color='k',fontsize=8)\n",
    "plt.title('Order of observations; %s' %basesim)    \n",
    "if save_plots: plt.savefig(os.path.join(dirsave,'sky_targets_order_%s.png'%basesim))\n",
    "\n",
    "\n",
    "# CMD \n",
    "axbv = plt.figure(figsize=(6,6)).add_subplot(111)\n",
    "axbv = plotstuff(axbv,BV,MV,'B-V','Mv',marker='o',color='c',markersize=6)\n",
    "axbv.plot(BV[target_obsind],MV[target_obsind],'ro',markersize=6,mfc='none',mec='r',mew=2)\n",
    "axbv.set_ylim(axbv.get_ylim()[::-1])\n",
    "axbv.set_title('%s' %basesim)          \n",
    "if save_plots: plt.savefig(os.path.join(dirsave,'target_CMD_%s.png'%basesim))\n",
    "\n",
    "# DISTANCE VS. B-V\n",
    "axbvd = plt.figure(figsize=(6,6)).add_subplot(111)\n",
    "axbvd = plotstuff(axbvd,dist,BV,'Distance (pc)','B-V',marker='o',color='g',markersize=6)\n",
    "axbvd.plot(dist[target_obsind],BV[target_obsind],'ro',ms=6,mfc='none',mec='r',mew=2)\n",
    "axbvd.set_title('%s'%basesim)\n",
    "if save_plots: plt.savefig(os.path.join(dirsave,'target_dist_v_B-V_%s.png'%basesim))\n"
   ]
  },
  {
   "cell_type": "markdown",
   "metadata": {},
   "source": [
    "## Planet Plots"
   ]
  },
  {
   "cell_type": "code",
   "execution_count": 52,
   "metadata": {
    "collapsed": false
   },
   "outputs": [],
   "source": [
    "Rj = 69.911e6 #meters\n",
    "Mj = 1.898e27 #Kg\n",
    "\n",
    "Mp,Rp = pd_e['Mp'], pd_e['Rp']\n",
    "sma,ecc = pd_e['sma'], pd_e['e']\n",
    "\n",
    "plt.figure(figsize=(6,6))\n",
    "plt.plot(Mp/Mj,Rp/Rj,'bo',ms=4)\n",
    "plt.xlabel(r'Planet Mass ($M_J$)',fontsize=20)\n",
    "plt.ylabel(r'Planet Radius ($R_J$)',fontsize=20)\n",
    "plt.title('%s'%basesim)\n",
    "plt.loglog()\n",
    "if save_plots: plt.savefig(os.path.join(dirsave,'planet_R_v_M_%s.png'%basesim))\n",
    "\n",
    "plt.figure(figsize=(6,6))\n",
    "plt.hist(sma,bins=50,histtype='step',lw=3);\n",
    "plt.xlabel('SMA (AU)')\n",
    "plt.title('%s'%basesim)\n",
    "if save_plots: plt.savefig(os.path.join(dirsave,'planet_SMA_distribution_%s.png'%basesim))\n",
    "\n",
    "plt.figure(figsize=(6,6))\n",
    "plt.hist(ecc,bins=50,histtype='step',lw=3)\n",
    "plt.xlabel('eccentricity')\n",
    "if save_plots: plt.savefig(os.path.join(dirsave,'planet_ecc_distribution_%s.png'%basesim))"
   ]
  },
  {
   "cell_type": "code",
   "execution_count": null,
   "metadata": {
    "collapsed": true
   },
   "outputs": [],
   "source": []
  }
 ],
 "metadata": {
  "kernelspec": {
   "display_name": "Python 2",
   "language": "python",
   "name": "python2"
  },
  "language_info": {
   "codemirror_mode": {
    "name": "ipython",
    "version": 2
   },
   "file_extension": ".py",
   "mimetype": "text/x-python",
   "name": "python",
   "nbconvert_exporter": "python",
   "pygments_lexer": "ipython2",
   "version": "2.7.10"
  },
  "widgets": {
   "state": {},
   "version": "1.1.1"
  }
 },
 "nbformat": 4,
 "nbformat_minor": 0
}
