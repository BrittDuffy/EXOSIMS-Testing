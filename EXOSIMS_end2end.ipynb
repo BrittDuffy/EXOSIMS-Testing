{
 "cells": [
  {
   "cell_type": "code",
   "execution_count": 76,
   "metadata": {
    "collapsed": false
   },
   "outputs": [
    {
     "name": "stdout",
     "output_type": "stream",
     "text": [
      "Using matplotlib backend: TkAgg\n"
     ]
    }
   ],
   "source": [
    "import EXOSIMS as EX, os.path\n",
    "import EXOSIMS.MissionSim as msim\n",
    "import EXOSIMS.StarCatalog.EXOCAT1 as exc\n",
    "import numpy as np\n",
    "import math as ma\n",
    "import sys\n",
    "import matplotlib.pyplot as plt\n",
    "import astropy.units as u\n",
    "import pickle, json, warnings, astropy\n",
    "%matplotlib"
   ]
  },
  {
   "cell_type": "markdown",
   "metadata": {},
   "source": [
    "###  Use script files saved in EXOSIMS path"
   ]
  },
  {
   "cell_type": "code",
   "execution_count": 77,
   "metadata": {
    "collapsed": false
   },
   "outputs": [
    {
     "name": "stdout",
     "output_type": "stream",
     "text": [
      "/Users/rpatel/Dropbox (Personal)/Research/WFIRST/EXOSIMSTesting/scripts/sampleScript_rpatel.json\n"
     ]
    }
   ],
   "source": [
    "# LOAD JSON SCRIPT FILE\n",
    "jfile = 'sampleScript_rpatel.json'\n",
    "scriptfile = os.path.join(os.path.abspath(''),'scripts',jfile)\n",
    "print scriptfile"
   ]
  },
  {
   "cell_type": "code",
   "execution_count": 78,
   "metadata": {
    "collapsed": true
   },
   "outputs": [],
   "source": [
    "script = open(scriptfile).read()\n",
    "specs_from_file = json.loads(script)"
   ]
  },
  {
   "cell_type": "code",
   "execution_count": 79,
   "metadata": {
    "collapsed": false,
    "scrolled": false
   },
   "outputs": [
    {
     "name": "stdout",
     "output_type": "stream",
     "text": [
      "MissionSim.pyc: Beginning logging to \"logfile.txt\" at level INFO\n",
      "MissionSim: Seed is:  202135857\n",
      "Imported SurveyEnsemble (prototype module) from EXOSIMS.Prototypes.SurveyEnsemble\n",
      "Imported KnownRVPlanetsUniverse (specific module) from EXOSIMS.Simulat[...]se.KnownRVPlanetsUniverse\n",
      "Imported KnownRVPlanetsTargetList (specific module) from EXOSIMS.TargetList.KnownRVPlanetsTargetList\n",
      "Imported StarCatalog (prototype module) from EXOSIMS.Prototypes.StarCatalog\n",
      "Imported Nemati (specific module) from EXOSIMS.OpticalSystem.Nemati\n",
      "Imported Stark (specific module) from EXOSIMS.ZodiacalLight.Stark\n",
      "Imported PostProcessing (prototype module) from EXOSIMS.Prototypes.PostProcessing\n",
      "Imported GalaxiesFaintStars (specific module) from EXOSIMS.BackgroundSources.GalaxiesFaintStars\n",
      "Imported GarrettCompleteness (specific module) from EXOSIMS.Completeness.GarrettCompleteness\n",
      "Imported KnownRVPlanets (specific module) from EXOSIMS.PlanetPopulation.KnownRVPlanets\n",
      "Imported Forecaster (specific module) from EXOSIMS.PlanetPhysicalModel.Forecaster\n",
      "Cached completeness file not found at \"/Users/rpatel/Dropbox/Research/WFIRST/EXOSIMS/EXOSIMS/Completeness/KnownRVPlanets40db4f2bbfd9f667c7dd81cc56a592b2.acomp\".\n",
      "Generating completeness.\n",
      "Creating preliminary functions.\n",
      "Generating pdf of orbital radius\n",
      "Finished pdf of orbital radius\n",
      "Generating pdf of albedo times planetary radius squared\n",
      "Finished pdf of albedo times planetary radius squared\n",
      "Marginalizing joint pdf of separation and dMag up to dMagLim\n",
      "Finished marginalization\n",
      "Completeness data stored in /Users/rpatel/Dropbox/Research/WFIRST/EXOSIMS/EXOSIMS/Completeness/KnownRVPlanets40db4f2bbfd9f667c7dd81cc56a592b2.acomp\n",
      "Beginning completeness update calculations\n",
      "Completeness update calculations finished\n",
      "Imported WFIRSTObservatoryL2 (specific module) from EXOSIMS.Observatory.WFIRSTObservatoryL2\n",
      "Imported TimeKeeping (prototype module) from EXOSIMS.Prototypes.TimeKeeping\n",
      "Imported SurveySimulation (prototype module) from EXOSIMS.Prototypes.SurveySimulation\n",
      "CPU times: user 13min 5s, sys: 11.2 s, total: 13min 16s\n",
      "Wall time: 13min 15s\n"
     ]
    }
   ],
   "source": [
    "# QUESTION -- DO I HAVE TO RUN THIS EACH TIME OR IS THERE A WAY TO SAVE/LOAD THE OUTPUT?\n",
    "%time sim = msim.MissionSim(scriptfile)"
   ]
  },
  {
   "cell_type": "code",
   "execution_count": 27,
   "metadata": {
    "collapsed": false,
    "scrolled": false
   },
   "outputs": [
    {
     "name": "stdout",
     "output_type": "stream",
     "text": [
      "Simulation finishing OK. Results stored in SurveySimulation.DRM\n"
     ]
    },
    {
     "data": {
      "text/plain": [
       "'Simulation finishing OK. Results stored in SurveySimulation.DRM'"
      ]
     },
     "execution_count": 27,
     "metadata": {},
     "output_type": "execute_result"
    }
   ],
   "source": [
    "sim.SurveySimulation.run_sim()"
   ]
  },
  {
   "cell_type": "markdown",
   "metadata": {},
   "source": [
    "## Module Objects"
   ]
  },
  {
   "cell_type": "code",
   "execution_count": 28,
   "metadata": {
    "collapsed": false,
    "scrolled": true
   },
   "outputs": [],
   "source": [
    "# Stored detection information -- if any -- in DRM Dictionary \n",
    "DRM = sim.SurveySimulation.DRM"
   ]
  },
  {
   "cell_type": "code",
   "execution_count": 49,
   "metadata": {
    "collapsed": false
   },
   "outputs": [],
   "source": [
    "# Simulation specifications ; i.e., all parameters used in simulation\n",
    "AllSpecs = sim.genOutSpec()"
   ]
  },
  {
   "cell_type": "code",
   "execution_count": 51,
   "metadata": {
    "collapsed": false,
    "scrolled": false
   },
   "outputs": [],
   "source": [
    "WA = sim.SimulatedUniverse.WA"
   ]
  },
  {
   "cell_type": "code",
   "execution_count": 53,
   "metadata": {
    "collapsed": true
   },
   "outputs": [],
   "source": [
    "iwa = AllSpecs['IWA'] * 1000"
   ]
  },
  {
   "cell_type": "markdown",
   "metadata": {},
   "source": [
    "# Right now, I'm loading obvious objects into local variables\n",
    "# We can add more depending on what we need for the interface"
   ]
  },
  {
   "cell_type": "markdown",
   "metadata": {},
   "source": [
    "### modules:"
   ]
  },
  {
   "cell_type": "code",
   "execution_count": 9,
   "metadata": {
    "collapsed": true
   },
   "outputs": [],
   "source": [
    "TL = sim.TargetList\n",
    "SC = sim.StarCatalog\n",
    "SU = sim.SimulatedUniverse\n",
    "SSim = sim.SurveySimulation\n",
    "OS = sim.OpticalSystem\n",
    "ZL = sim.ZodiacalLight\n",
    "BS = sim.BackgroundSources\n",
    "CP = sim.Completeness\n",
    "PP = sim.PlanetPopulation\n",
    "PM = sim.PlanetPhysicalModel"
   ]
  },
  {
   "cell_type": "markdown",
   "metadata": {},
   "source": [
    "## Stellar Properties"
   ]
  },
  {
   "cell_type": "code",
   "execution_count": 10,
   "metadata": {
    "collapsed": false
   },
   "outputs": [],
   "source": [
    "Name   = TL.Name\n",
    "Spec   = TL.Spec\n",
    "parx   = TL.parx\n",
    "Umag   = TL.Umag\n",
    "Bmag   = TL.Bmag\n",
    "Vmag   = TL.Vmag\n",
    "Rmag   = TL.Rmag\n",
    "Imag   = TL.Imag\n",
    "Jmag   = TL.Jmag\n",
    "Hmag   = TL.Hmag\n",
    "Kmag   = TL.Kmag\n",
    "dist   = TL.dist\n",
    "BV = TL.BV\n",
    "MV = TL.MV\n",
    "BC = TL.BC\n",
    "L  = TL.L\n",
    "coords = TL.coords\n",
    "pmra   = TL.pmra\n",
    "pmdec  = TL.pmdec\n",
    "rv = TL.rv\n",
    "Binary_Cut = TL.Binary_Cut\n",
    "#maxintTime = OS.maxintTime\n",
    "comp0  = TL.comp0\n",
    "MsEst  = TL.MsEst\n",
    "MsTrue = TL.MsTrue\n",
    "nStars = TL.nStars\n",
    "\n",
    "star_prop = {'Name':Name,'Spec':Spec,'parx':parx,'Umag':Umag,'Bmag':Bmag,'Vmag':Vmag,\n",
    "            'Imag':Imag,'Jmag':Jmag,'Hmag':Hmag,'Kmag':Kmag,'dist':dist,'BV':BV,\n",
    "            'MV':MV,'Lum':L,'coords':coords,'pmra':pmra,'pmdec':pmdec,'rv':rv,\n",
    "            'Binary_Cut':Binary_Cut,'comp0':comp0,'MsEst':MsEst,\n",
    "            'MsTrue':MsTrue,'nStars':nStars}#,'maxintTime':maxintTime}\n"
   ]
  },
  {
   "cell_type": "markdown",
   "metadata": {},
   "source": [
    "## Planets Generated Properties"
   ]
  },
  {
   "cell_type": "code",
   "execution_count": 11,
   "metadata": {
    "collapsed": false
   },
   "outputs": [
    {
     "name": "stdout",
     "output_type": "stream",
     "text": [
      "Sorry.. no go.\n",
      "Not simulated planets.\n"
     ]
    }
   ],
   "source": [
    "try:\n",
    "    arange = TL.arange \n",
    "    erange = TL.erange\n",
    "    wrange = TL.wrange\n",
    "    Orange = TL.Orange\n",
    "    prange = TL.prange\n",
    "    Irange = TL.Irange\n",
    "    Rrange, Mprange = TL.Rrange, TL.Mprange\n",
    "    rrange = TL.rrange\n",
    "    synplanet_prop = {'arange':arange,'erange':erange,'wrange':wrange,'Orange':Orange,\n",
    "                      'prange':prange,'Irange':Irange,'Rrange':Rrange,'Mprange':Mprange,\n",
    "                      'rrange':rrange}\n",
    "except AttributeError:\n",
    "    print 'Sorry.. no go.'\n",
    "    print 'Not simulated planets.'\n",
    "    synplanet_prop = None\n",
    "\n",
    "try:\n",
    "    nPlans, plan2star = SU.nPlans, SU.plan2star\n",
    "    sInds = SU.sInds\n",
    "    # ORBTIAL PARAMETERS\n",
    "    sma,e,w,O,I = SU.a, SU.e, SU.w, SU.O, SU.I\n",
    "    # PLANET PROPERTIES\n",
    "    Mp,Rp = SU.Mp, SU.Rp\n",
    "    # POSITION AND VELOCITY VECTOR OF PLANET\n",
    "    r, v = SU.r, SU.v\n",
    "    # ALBEDO\n",
    "    p = SU.p\n",
    "    fEZ = SU.fEZ\n",
    "\n",
    "    empplanet_prop = {'nplans':nPlans,'plan2star':plan2star,'sInds':sInds,'sma':sma,\n",
    "                      'e':e,'w':w,'O':O,'I':I,'Mp':Mp,'Rp':Rp,'r':r,'v':v,'p':p,'fEZ':fEZ}\n",
    "except AttributeError:\n",
    "    print 'Sorry.. no go.'\n",
    "    print 'Not ``real`` planets.'\n",
    "    empplanet_prop = None\n",
    "    "
   ]
  },
  {
   "cell_type": "markdown",
   "metadata": {},
   "source": [
    "## Additional simulation results -- add more as needed"
   ]
  },
  {
   "cell_type": "markdown",
   "metadata": {
    "collapsed": true
   },
   "source": [
    "# number of visits to each star -- double check\n",
    "nvisits_perstar = SU.Completeness.\n",
    "\n",
    "etc_data = {'nvisits':nvisits_perstar}"
   ]
  },
  {
   "cell_type": "markdown",
   "metadata": {},
   "source": [
    "## Dump Survey Simulation Results -- not completeness"
   ]
  },
  {
   "cell_type": "code",
   "execution_count": 12,
   "metadata": {
    "collapsed": false
   },
   "outputs": [],
   "source": [
    "mlife = AllSpecs['missionLife']\n",
    "#nsimplanets = specs_from_file['Nplanets']\n",
    "jfilebase = jfile.strip('.json').strip('template_')\n",
    "\n",
    "#simresults = 'simresults_%iyrs_%.0Estars_%s.pickle' %(mlife,nsimplanets,jfilebase)\n",
    "simresults = 'simresults_%.2fyrs_%s.pickle' %(mlife,jfilebase)\n",
    "simfile = os.path.join('/Users/rpatel/Dropbox/Research/WFIRST/EXOSIMSTesting/SimResults/',simresults)\n",
    "\n",
    "data = {'DRM':DRM,'empplanet_prop':empplanet_prop,'synplanet_prop':synplanet_prop,\n",
    "        'star_prop':star_prop,'AllSpecs':AllSpecs}#,'etc_data':etc_data}\n",
    "\n",
    "handler = open(simfile,'wb')\n",
    "pickle.dump(data,handler)\n",
    "handler.close()"
   ]
  },
  {
   "cell_type": "code",
   "execution_count": 13,
   "metadata": {
    "collapsed": false
   },
   "outputs": [
    {
     "data": {
      "text/plain": [
       "'simresults_2.00yrs_rpateltest_KnownRV_2year.pickle'"
      ]
     },
     "execution_count": 13,
     "metadata": {},
     "output_type": "execute_result"
    }
   ],
   "source": [
    "simresults"
   ]
  }
 ],
 "metadata": {
  "kernelspec": {
   "display_name": "Python 2",
   "language": "python",
   "name": "python2"
  },
  "language_info": {
   "codemirror_mode": {
    "name": "ipython",
    "version": 2
   },
   "file_extension": ".py",
   "mimetype": "text/x-python",
   "name": "python",
   "nbconvert_exporter": "python",
   "pygments_lexer": "ipython2",
   "version": "2.7.10"
  },
  "widgets": {
   "state": {},
   "version": "1.1.1"
  }
 },
 "nbformat": 4,
 "nbformat_minor": 0
}
