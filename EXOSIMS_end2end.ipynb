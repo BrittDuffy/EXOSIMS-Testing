{
 "cells": [
  {
   "cell_type": "code",
   "execution_count": 5,
   "metadata": {
    "collapsed": false
   },
   "outputs": [
    {
     "name": "stdout",
     "output_type": "stream",
     "text": [
      "Using matplotlib backend: TkAgg\n"
     ]
    }
   ],
   "source": [
    "import EXOSIMS as EX, os.path\n",
    "import EXOSIMS.MissionSim as msim\n",
    "import EXOSIMS.StarCatalog.EXOCAT1 as exc\n",
    "import numpy as np\n",
    "import math as ma\n",
    "import sys\n",
    "import matplotlib.pyplot as plt\n",
    "import astropy.units as u\n",
    "import pickle, json, warnings, astropy\n",
    "%matplotlib"
   ]
  },
  {
   "cell_type": "markdown",
   "metadata": {},
   "source": [
    "###  Use script files saved in EXOSIMS path"
   ]
  },
  {
   "cell_type": "code",
   "execution_count": 3,
   "metadata": {
    "collapsed": false
   },
   "outputs": [
    {
     "name": "stdout",
     "output_type": "stream",
     "text": [
      "/Users/rpatel/Dropbox (Personal)/Research/WFIRST/EXOSIMSTesting/scripts/template_rpateltest_KnownRV_2years.json\n"
     ]
    }
   ],
   "source": [
    "# LOAD JSON SCRIPT FILE\n",
    "#jfile = 'template_WFIRST_KeplerLike.json'\n",
    "#jfile = 'template_WFIRST_EarthTwinHabZone.json'\n",
    "#jfile = 'template_WFIRST_KnownRV.json'\n",
    "#jfile = 'template_rpateltest_KnownRV.json'\n",
    "jfile = 'template_rpateltest_KnownRV_2years.json'\n",
    "scriptfile = os.path.join(os.path.abspath(''),'scripts',jfile)\n",
    "print scriptfile"
   ]
  },
  {
   "cell_type": "code",
   "execution_count": 8,
   "metadata": {
    "collapsed": false
   },
   "outputs": [],
   "source": [
    "script = open(scriptfile).read()\n",
    "specs_from_file = json.loads(script)"
   ]
  },
  {
   "cell_type": "code",
   "execution_count": 11,
   "metadata": {
    "collapsed": false
   },
   "outputs": [
    {
     "data": {
      "text/plain": [
       "{u'attenuation': 0.441,\n",
       " u'dMagLim': 21,\n",
       " u'keepStarCatalog': True,\n",
       " u'logfile': u'rpatel_log.txt',\n",
       " u'minComp': 0,\n",
       " u'missionLife': 2,\n",
       " u'missionPortion': 0.167,\n",
       " u'modules': {u'BackgroundSources': u'GalaxiesFaintStars',\n",
       "  u'Completeness': u'GarrettCompleteness',\n",
       "  u'Observatory': u'WFIRSTObservatoryL2',\n",
       "  u'OpticalSystem': u'KasdinBraems',\n",
       "  u'PlanetPhysicalModel': u'FortneyMarleyCahoyMix1',\n",
       "  u'PlanetPopulation': u'KnownRVPlanets',\n",
       "  u'PostProcessing': u'PostProcessing',\n",
       "  u'SimulatedUniverse': u'KnownRVPlanetsUniverse',\n",
       "  u'StarCatalog': u'StarCatalog',\n",
       "  u'SurveyEnsemble': u'SurveyEnsemble',\n",
       "  u'SurveySimulation': u'SurveySimulation',\n",
       "  u'TargetList': u'KnownRVPlanetsTargetList',\n",
       "  u'TimeKeeping': u'TimeKeeping',\n",
       "  u'ZodiacalLight': u'Stark'},\n",
       " u'obscurFac': 0.14728,\n",
       " u'observingModes': [{u'detection': True,\n",
       "   u'instName': u'imaging-EMCCD',\n",
       "   u'systName': u'HLC-565'},\n",
       "  {u'BW': 0.18,\n",
       "   u'instName': u'imaging-EMCCD',\n",
       "   u'lam': 660,\n",
       "   u'systName': u'HLC-565'},\n",
       "  {u'SNR': 10, u'instName': u'spectro-CCD', u'systName': u'SPC-660'},\n",
       "  {u'SNR': 10,\n",
       "   u'instName': u'spectro-CCD',\n",
       "   u'lam': 770,\n",
       "   u'systName': u'SPC-660'},\n",
       "  {u'SNR': 10,\n",
       "   u'instName': u'spectro-CCD',\n",
       "   u'lam': 890,\n",
       "   u'systName': u'SPC-660'}],\n",
       " u'ppFact': 0.2,\n",
       " u'pupilDiam': 2.37,\n",
       " u'scienceInstruments': [{u'CIC': 0.0013,\n",
       "   u'ENF': 1.414,\n",
       "   u'QE': 0.88,\n",
       "   u'name': u'imaging-EMCCD',\n",
       "   u'sread': 0},\n",
       "  {u'CIC': 0.0013,\n",
       "   u'QE': 0.88,\n",
       "   u'Rs': 70,\n",
       "   u'name': u'spectro-CCD',\n",
       "   u'sread': 3}],\n",
       " u'starlightSuppressionSystems': [{u'BW': 0.1,\n",
       "   u'core_area': 6e-10,\n",
       "   u'core_mean_intensity': 2e-12,\n",
       "   u'core_thruput': 0.02,\n",
       "   u'lam': 565,\n",
       "   u'name': u'HLC-565',\n",
       "   u'occ_trans': 0.2},\n",
       "  {u'BW': 0.18,\n",
       "   u'core_contrast': 6e-10,\n",
       "   u'core_thruput': 0.02,\n",
       "   u'lam': 660,\n",
       "   u'name': u'SPC-660',\n",
       "   u'occ_trans': 0.2}]}"
      ]
     },
     "execution_count": 11,
     "metadata": {},
     "output_type": "execute_result"
    }
   ],
   "source": [
    "specs_from_file"
   ]
  },
  {
   "cell_type": "code",
   "execution_count": 4,
   "metadata": {
    "collapsed": false,
    "scrolled": false
   },
   "outputs": [
    {
     "name": "stdout",
     "output_type": "stream",
     "text": [
      "MissionSim.pyc: Beginning logging to \"rpatel_log.txt\" at level INFO\n",
      "MissionSim: Seed is:  601394520\n",
      "Imported SurveyEnsemble (prototype module) from EXOSIMS.Prototypes.SurveyEnsemble\n",
      "Imported KnownRVPlanetsUniverse (specific module) from EXOSIMS.Simulat[...]se.KnownRVPlanetsUniverse\n",
      "Imported KnownRVPlanetsTargetList (specific module) from EXOSIMS.TargetList.KnownRVPlanetsTargetList\n",
      "Imported StarCatalog (prototype module) from EXOSIMS.Prototypes.StarCatalog\n",
      "Imported KasdinBraems (specific module) from EXOSIMS.OpticalSystem.KasdinBraems\n",
      "Imported Stark (specific module) from EXOSIMS.ZodiacalLight.Stark\n",
      "Imported PostProcessing (prototype module) from EXOSIMS.Prototypes.PostProcessing\n",
      "Imported GalaxiesFaintStars (specific module) from EXOSIMS.BackgroundSources.GalaxiesFaintStars\n",
      "Imported GarrettCompleteness (specific module) from EXOSIMS.Completeness.GarrettCompleteness\n",
      "Imported KnownRVPlanets (specific module) from EXOSIMS.PlanetPopulation.KnownRVPlanets\n",
      "Imported FortneyMarleyCahoyMix1 (specific module) from EXOSIMS.PlanetP[...]el.FortneyMarleyCahoyMix1\n",
      "Loading cached completeness file from /Users/rpatel/Dropbox/Research/WFIRST/EXOSIMS/EXOSIMS/Completeness/KnownRVPlanets9adba16e553ed4095ab1c00f0f91c208.acomp\n",
      "Completeness loaded from cache.\n",
      "Imported WFIRSTObservatoryL2 (specific module) from EXOSIMS.Observatory.WFIRSTObservatoryL2\n"
     ]
    },
    {
     "name": "stderr",
     "output_type": "stream",
     "text": [
      "/Users/rpatel/Dropbox/Research/WFIRST/EXOSIMS/EXOSIMS/Completeness/GarrettCompleteness.py:332: RuntimeWarning: divide by zero encountered in divide\n",
      "  mindmag = -2.5*np.log10(self.pmax*(self.Rmax*self.x*np.sin(self.bstar)/s)**2*self.Phi(self.bstar))\n",
      "WARNING: ErfaWarning: ERFA function \"utctai\" yielded 36 of \"dubious year (Note 3)\" [astropy._erfa.core]\n"
     ]
    },
    {
     "name": "stdout",
     "output_type": "stream",
     "text": [
      "Imported TimeKeeping (prototype module) from EXOSIMS.Prototypes.TimeKeeping\n",
      "Imported SurveySimulation (prototype module) from EXOSIMS.Prototypes.SurveySimulation\n",
      "CPU times: user 3.51 s, sys: 218 ms, total: 3.73 s\n",
      "Wall time: 3.77 s\n"
     ]
    }
   ],
   "source": [
    "# QUESTION -- DO I HAVE TO RUN THIS EACH TIME OR IS THERE A WAY TO SAVE/LOAD THE OUTPUT?\n",
    "%time sim = msim.MissionSim(scriptfile)"
   ]
  },
  {
   "cell_type": "code",
   "execution_count": 5,
   "metadata": {
    "collapsed": false,
    "scrolled": false
   },
   "outputs": [
    {
     "name": "stdout",
     "output_type": "stream",
     "text": [
      "Current mission time:  2.0 d\n",
      "Detected planet(s) [278] of target 212\n",
      "Characterized planet(s) [278] of target 212\n",
      "Current mission time:  4.00341347274 d\n",
      "Detected planet(s) [304] of target 232\n",
      "Characterized planet(s) [304] of target 232\n",
      "Current mission time:  6.05455561326 d\n",
      "Detected planet(s) [90] of target 64\n",
      "Characterized planet(s) [90] of target 64\n",
      "Current mission time:  8.0628855874 d\n",
      "Detected planet(s) [281 282] of target 215\n",
      "Characterized planet(s) [281 282] of target 215\n",
      "Current mission time:  10.0666983273 d\n",
      "Detected planet(s) [134] of target 101\n",
      "Characterized planet(s) [134] of target 101\n",
      "Current mission time:  12.1157119229 d\n",
      "Detected planet(s) [165] of target 124\n",
      "Characterized planet(s) [165] of target 124\n",
      "Current mission time:  14.1396600944 d\n",
      "Detected planet(s) [154] of target 115\n",
      "Characterized planet(s) [154] of target 115\n",
      "Current mission time:  16.1463247295 d\n",
      "Detected planet(s) [219] of target 167\n",
      "Characterized planet(s) [219] of target 167\n",
      "Current mission time:  18.1673491532 d\n",
      "Detected planet(s) [274] of target 209\n",
      "Characterized planet(s) [274] of target 209\n",
      "Current mission time:  20.1814595432 d\n",
      "Detected planet(s) [211 212] of target 160\n",
      "Characterized planet(s) [211 212] of target 160\n",
      "Current mission time:  22.1845132844 d\n",
      "Detected planet(s) [254 255] of target 195\n",
      "Characterized planet(s) [254 255] of target 195\n",
      "Current mission time:  24.18961259 d\n",
      "Detected planet(s) [167] of target 126\n",
      "Characterized planet(s) [167] of target 126\n",
      "Current mission time:  26.2224867181 d\n",
      "Detected planet(s) [2] of target 2\n",
      "Characterized planet(s) [2] of target 2\n",
      "Current mission time:  28.2282011608 d\n",
      "Detected planet(s) [217] of target 165\n",
      "Characterized planet(s) [217] of target 165\n",
      "Current mission time:  30.2315981823 d\n",
      "Detected planet(s) [50] of target 35\n",
      "Characterized planet(s) [50] of target 35\n",
      "Current mission time:  32.3237725059 d\n",
      "Detected planet(s) [174 175] of target 133\n",
      "Characterized planet(s) [174 175] of target 133\n",
      "Current mission time:  34.3340655081 d\n",
      "Detected planet(s) [385] of target 300\n",
      "Characterized planet(s) [385] of target 300\n",
      "Current mission time:  36.3568386484 d\n",
      "Detected planet(s) [240 241] of target 183\n",
      "Characterized planet(s) [240 241] of target 183\n",
      "Current mission time:  38.3594114626 d\n",
      "Detected planet(s) [504] of target 398\n",
      "Characterized planet(s) [504] of target 398\n",
      "Current mission time:  40.3619394228 d\n",
      "Detected planet(s) [297] of target 225\n",
      "Characterized planet(s) [297] of target 225\n",
      "Current mission time:  42.3795587818 d\n",
      "Detected planet(s) [286 287 288 289 290 291] of target 219\n",
      "Characterized planet(s) [286 287 288 289 290 291] of target 219\n",
      "Current mission time:  44.3817390445 d\n",
      "Detected planet(s) [381 382] of target 297\n",
      "Characterized planet(s) [381 382] of target 297\n",
      "Current mission time:  46.3825426206 d\n",
      "Detected planet(s) [88] of target 62\n",
      "Characterized planet(s) [88] of target 62\n",
      "Current mission time:  48.386806058 d\n",
      "Detected planet(s) [213] of target 161\n",
      "Characterized planet(s) [213] of target 161\n",
      "Current mission time:  301.401197605 d\n",
      "Detected planet(s) [410] of target 319\n",
      "Characterized planet(s) [410] of target 319\n",
      "Current mission time:  303.405790343 d\n",
      "Detected planet(s) [393] of target 306\n",
      "Characterized planet(s) [393] of target 306\n",
      "Current mission time:  305.437171173 d\n",
      "Detected planet(s) [64] of target 43\n",
      "Characterized planet(s) [64] of target 43\n",
      "Current mission time:  307.442048829 d\n",
      "Detected planet(s) [6] of target 5\n",
      "Characterized planet(s) [6] of target 5\n",
      "Current mission time:  309.442938345 d\n",
      "Detected planet(s) [478] of target 377\n",
      "Characterized planet(s) [478] of target 377\n",
      "Current mission time:  311.485413592 d\n",
      "Detected planet(s) [58] of target 40\n",
      "Characterized planet(s) [58] of target 40\n",
      "Current mission time:  313.656616904 d\n",
      "Detected planet(s) [56 57] of target 39\n",
      "Characterized planet(s) [56 57] of target 39\n",
      "Current mission time:  315.692582331 d\n",
      "Detected planet(s) [186 187] of target 142\n",
      "Characterized planet(s) [186 187] of target 142\n",
      "Current mission time:  317.702910242 d\n",
      "Detected planet(s) [356] of target 276\n",
      "Characterized planet(s) [356] of target 276\n",
      "Current mission time:  319.72018868 d\n",
      "Detected planet(s) [439] of target 345\n",
      "Characterized planet(s) [439] of target 345\n",
      "Current mission time:  321.746989978 d\n",
      "Detected planet(s) [238] of target 181\n",
      "Characterized planet(s) [238] of target 181\n",
      "Current mission time:  323.766847826 d\n",
      "Detected planet(s) [100 101] of target 73\n",
      "Characterized planet(s) [100 101] of target 73\n",
      "Current mission time:  325.819064936 d\n",
      "Detected planet(s) [239] of target 182\n",
      "Characterized planet(s) [239] of target 182\n",
      "Current mission time:  327.844754454 d\n",
      "Detected planet(s) [188 189] of target 143\n",
      "Characterized planet(s) [188 189] of target 143\n",
      "Current mission time:  329.857871294 d\n",
      "Detected planet(s) [492] of target 387\n",
      "Characterized planet(s) [492] of target 387\n",
      "Current mission time:  331.858451737 d\n",
      "Detected planet(s) [199] of target 149\n",
      "Characterized planet(s) [199] of target 149\n",
      "Current mission time:  333.86115817 d\n",
      "Detected planet(s) [28] of target 19\n",
      "Characterized planet(s) [28] of target 19\n",
      "Current mission time:  335.913903865 d\n",
      "Detected planet(s) [38 39 40] of target 27\n",
      "Characterized planet(s) [38 39 40] of target 27\n",
      "Current mission time:  338.553579493 d\n",
      "Detected planet(s) [110] of target 81\n",
      "Characterized planet(s) [110] of target 81\n",
      "Current mission time:  340.564065453 d\n",
      "Detected planet(s) [496] of target 391\n",
      "Characterized planet(s) [496] of target 391\n",
      "Current mission time:  342.5643131 d\n",
      "Detected planet(s) [256 257] of target 196\n",
      "Characterized planet(s) [256 257] of target 196\n",
      "Current mission time:  344.586583069 d\n",
      "Detected planet(s) [293] of target 221\n",
      "Characterized planet(s) [293] of target 221\n",
      "Current mission time:  346.607532991 d\n",
      "Detected planet(s) [262] of target 200\n",
      "Characterized planet(s) [262] of target 200\n",
      "Current mission time:  348.64255216 d\n",
      "Detected planet(s) [300] of target 228\n",
      "Characterized planet(s) [300] of target 228\n",
      "Current mission time:  600.80239521 d\n",
      "Detected planet(s) [344 345 346 347 348] of target 269\n",
      "Characterized planet(s) [344 345 346 347 348] of target 269\n",
      "Current mission time:  602.811924599 d\n",
      "Detected planet(s) [302] of target 230\n",
      "Characterized planet(s) [302] of target 230\n",
      "Current mission time:  604.821247603 d\n",
      "Detected planet(s) [43] of target 30\n",
      "Characterized planet(s) [43] of target 30\n",
      "Current mission time:  607.55443 d\n",
      "Detected planet(s) [20] of target 11\n",
      "Characterized planet(s) [20] of target 11\n",
      "Current mission time:  609.55490537 d\n",
      "Detected planet(s) [172] of target 131\n",
      "Characterized planet(s) [172] of target 131\n",
      "Current mission time:  611.561537371 d\n",
      "Detected planet(s) [328] of target 256\n",
      "Characterized planet(s) [328] of target 256\n",
      "Current mission time:  613.630991161 d\n",
      "Detected planet(s) [270] of target 205\n",
      "Characterized planet(s) [270] of target 205\n",
      "Current mission time:  615.643880153 d\n",
      "Detected planet(s) [467] of target 367\n",
      "Characterized planet(s) [467] of target 367\n",
      "Current mission time:  617.651072483 d\n",
      "Detected planet(s) [446] of target 351\n",
      "Characterized planet(s) [446] of target 351\n",
      "Current mission time:  619.662697062 d\n",
      "Detected planet(s) [464 465 466] of target 366\n",
      "Characterized planet(s) [464 465 466] of target 366\n",
      "Current mission time:  621.712207353 d\n",
      "Detected planet(s) [112] of target 83\n",
      "Characterized planet(s) [112] of target 83\n",
      "Current mission time:  623.721946654 d\n",
      "Detected planet(s) [395 396 397] of target 308\n",
      "Characterized planet(s) [395 396 397] of target 308\n",
      "Current mission time:  625.725233052 d\n",
      "Detected planet(s) [321] of target 249\n",
      "Characterized planet(s) [321] of target 249\n",
      "Current mission time:  627.75428393 d\n",
      "Detected planet(s) [357] of target 277\n",
      "Characterized planet(s) [357] of target 277\n",
      "Current mission time:  629.804700116 d\n",
      "Detected planet(s) [121 122 123] of target 91\n",
      "Characterized planet(s) [121 122 123] of target 91\n",
      "Current mission time:  631.832568466 d\n",
      "Detected planet(s) [313] of target 241\n",
      "Characterized planet(s) [313] of target 241\n",
      "Current mission time:  633.902460328 d\n",
      "Detected planet(s) [148] of target 110\n",
      "Characterized planet(s) [148] of target 110\n",
      "Current mission time:  635.912924057 d\n",
      "Detected planet(s) [197 198] of target 148\n",
      "Characterized planet(s) [197 198] of target 148\n",
      "Current mission time:  637.933181939 d\n",
      "Detected planet(s) [78] of target 52\n",
      "Characterized planet(s) [78] of target 52\n",
      "Current mission time:  639.950939549 d\n",
      "Detected planet(s) [503] of target 397\n",
      "Characterized planet(s) [503] of target 397\n",
      "Current mission time:  641.951227279 d\n",
      "Detected planet(s) [180] of target 137\n",
      "Characterized planet(s) [180] of target 137\n",
      "Current mission time:  643.957397976 d\n",
      "Detected planet(s) [404 405] of target 315\n",
      "Characterized planet(s) [404 405] of target 315\n",
      "Current mission time:  646.007821387 d\n",
      "Detected planet(s) [55] of target 38\n",
      "Characterized planet(s) [55] of target 38\n",
      "Current mission time:  648.064415231 d\n",
      "Detected planet(s) [330] of target 258\n",
      "Characterized planet(s) [330] of target 258\n",
      "Simulation finishing OK. Results stored in SurveySimulation.DRM\n",
      "CPU times: user 1min 27s, sys: 2.4 s, total: 1min 29s\n",
      "Wall time: 1min 29s\n"
     ]
    },
    {
     "data": {
      "text/plain": [
       "'Simulation finishing OK. Results stored in SurveySimulation.DRM'"
      ]
     },
     "execution_count": 5,
     "metadata": {},
     "output_type": "execute_result"
    }
   ],
   "source": [
    "%time sim.SurveySimulation.run_sim()"
   ]
  },
  {
   "cell_type": "markdown",
   "metadata": {},
   "source": [
    "## Module Objects"
   ]
  },
  {
   "cell_type": "code",
   "execution_count": 6,
   "metadata": {
    "collapsed": false,
    "scrolled": true
   },
   "outputs": [],
   "source": [
    "# Stored detection information -- if any -- in DRM Dictionary \n",
    "DRM = sim.SurveySimulation.DRM"
   ]
  },
  {
   "cell_type": "code",
   "execution_count": 7,
   "metadata": {
    "collapsed": false
   },
   "outputs": [],
   "source": [
    "# Simulation specifications ; i.e., all parameters used in simulation\n",
    "AllSpecs = sim.genOutSpec()"
   ]
  },
  {
   "cell_type": "markdown",
   "metadata": {},
   "source": [
    "# Right now, I'm loading obvious objects into local variables\n",
    "# We can add more depending on what we need for the interface"
   ]
  },
  {
   "cell_type": "markdown",
   "metadata": {},
   "source": [
    "### modules:"
   ]
  },
  {
   "cell_type": "code",
   "execution_count": 9,
   "metadata": {
    "collapsed": true
   },
   "outputs": [],
   "source": [
    "TL = sim.TargetList\n",
    "SC = sim.StarCatalog\n",
    "SU = sim.SimulatedUniverse\n",
    "SSim = sim.SurveySimulation\n",
    "OS = sim.OpticalSystem\n",
    "ZL = sim.ZodiacalLight\n",
    "BS = sim.BackgroundSources\n",
    "CP = sim.Completeness\n",
    "PP = sim.PlanetPopulation\n",
    "PM = sim.PlanetPhysicalModel"
   ]
  },
  {
   "cell_type": "markdown",
   "metadata": {},
   "source": [
    "## Stellar Properties"
   ]
  },
  {
   "cell_type": "code",
   "execution_count": 10,
   "metadata": {
    "collapsed": false
   },
   "outputs": [],
   "source": [
    "Name   = TL.Name\n",
    "Spec   = TL.Spec\n",
    "parx   = TL.parx\n",
    "Umag   = TL.Umag\n",
    "Bmag   = TL.Bmag\n",
    "Vmag   = TL.Vmag\n",
    "Rmag   = TL.Rmag\n",
    "Imag   = TL.Imag\n",
    "Jmag   = TL.Jmag\n",
    "Hmag   = TL.Hmag\n",
    "Kmag   = TL.Kmag\n",
    "dist   = TL.dist\n",
    "BV = TL.BV\n",
    "MV = TL.MV\n",
    "BC = TL.BC\n",
    "L  = TL.L\n",
    "coords = TL.coords\n",
    "pmra   = TL.pmra\n",
    "pmdec  = TL.pmdec\n",
    "rv = TL.rv\n",
    "Binary_Cut = TL.Binary_Cut\n",
    "#maxintTime = OS.maxintTime\n",
    "comp0  = TL.comp0\n",
    "MsEst  = TL.MsEst\n",
    "MsTrue = TL.MsTrue\n",
    "nStars = TL.nStars\n",
    "\n",
    "star_prop = {'Name':Name,'Spec':Spec,'parx':parx,'Umag':Umag,'Bmag':Bmag,'Vmag':Vmag,\n",
    "            'Imag':Imag,'Jmag':Jmag,'Hmag':Hmag,'Kmag':Kmag,'dist':dist,'BV':BV,\n",
    "            'MV':MV,'Lum':L,'coords':coords,'pmra':pmra,'pmdec':pmdec,'rv':rv,\n",
    "            'Binary_Cut':Binary_Cut,'comp0':comp0,'MsEst':MsEst,\n",
    "            'MsTrue':MsTrue,'nStars':nStars}#,'maxintTime':maxintTime}\n"
   ]
  },
  {
   "cell_type": "markdown",
   "metadata": {},
   "source": [
    "## Planets Generated Properties"
   ]
  },
  {
   "cell_type": "code",
   "execution_count": 11,
   "metadata": {
    "collapsed": false
   },
   "outputs": [
    {
     "name": "stdout",
     "output_type": "stream",
     "text": [
      "Sorry.. no go.\n",
      "Not simulated planets.\n"
     ]
    }
   ],
   "source": [
    "try:\n",
    "    arange = TL.arange \n",
    "    erange = TL.erange\n",
    "    wrange = TL.wrange\n",
    "    Orange = TL.Orange\n",
    "    prange = TL.prange\n",
    "    Irange = TL.Irange\n",
    "    Rrange, Mprange = TL.Rrange, TL.Mprange\n",
    "    rrange = TL.rrange\n",
    "    synplanet_prop = {'arange':arange,'erange':erange,'wrange':wrange,'Orange':Orange,\n",
    "                      'prange':prange,'Irange':Irange,'Rrange':Rrange,'Mprange':Mprange,\n",
    "                      'rrange':rrange}\n",
    "except AttributeError:\n",
    "    print 'Sorry.. no go.'\n",
    "    print 'Not simulated planets.'\n",
    "    synplanet_prop = None\n",
    "\n",
    "try:\n",
    "    nPlans, plan2star = SU.nPlans, SU.plan2star\n",
    "    sInds = SU.sInds\n",
    "    # ORBTIAL PARAMETERS\n",
    "    sma,e,w,O,I = SU.a, SU.e, SU.w, SU.O, SU.I\n",
    "    # PLANET PROPERTIES\n",
    "    Mp,Rp = SU.Mp, SU.Rp\n",
    "    # POSITION AND VELOCITY VECTOR OF PLANET\n",
    "    r, v = SU.r, SU.v\n",
    "    # ALBEDO\n",
    "    p = SU.p\n",
    "    fEZ = SU.fEZ\n",
    "\n",
    "    empplanet_prop = {'nplans':nPlans,'plan2star':plan2star,'sInds':sInds,'sma':sma,\n",
    "                      'e':e,'w':w,'O':O,'I':I,'Mp':Mp,'Rp':Rp,'r':r,'v':v,'p':p,'fEZ':fEZ}\n",
    "except AttributeError:\n",
    "    print 'Sorry.. no go.'\n",
    "    print 'Not ``real`` planets.'\n",
    "    empplanet_prop = None\n",
    "    "
   ]
  },
  {
   "cell_type": "markdown",
   "metadata": {},
   "source": [
    "## Additional simulation results -- add more as needed"
   ]
  },
  {
   "cell_type": "markdown",
   "metadata": {
    "collapsed": true
   },
   "source": [
    "# number of visits to each star -- double check\n",
    "nvisits_perstar = SU.Completeness.\n",
    "\n",
    "etc_data = {'nvisits':nvisits_perstar}"
   ]
  },
  {
   "cell_type": "markdown",
   "metadata": {},
   "source": [
    "## Dump Survey Simulation Results -- not completeness"
   ]
  },
  {
   "cell_type": "code",
   "execution_count": 12,
   "metadata": {
    "collapsed": false
   },
   "outputs": [],
   "source": [
    "mlife = AllSpecs['missionLife']\n",
    "#nsimplanets = specs_from_file['Nplanets']\n",
    "jfilebase = jfile.strip('.json').strip('template_')\n",
    "\n",
    "#simresults = 'simresults_%iyrs_%.0Estars_%s.pickle' %(mlife,nsimplanets,jfilebase)\n",
    "simresults = 'simresults_%.2fyrs_%s.pickle' %(mlife,jfilebase)\n",
    "simfile = os.path.join('/Users/rpatel/Dropbox/Research/WFIRST/EXOSIMSTesting/SimResults/',simresults)\n",
    "\n",
    "data = {'DRM':DRM,'empplanet_prop':empplanet_prop,'synplanet_prop':synplanet_prop,\n",
    "        'star_prop':star_prop,'AllSpecs':AllSpecs}#,'etc_data':etc_data}\n",
    "\n",
    "handler = open(simfile,'wb')\n",
    "pickle.dump(data,handler)\n",
    "handler.close()"
   ]
  },
  {
   "cell_type": "code",
   "execution_count": 13,
   "metadata": {
    "collapsed": false
   },
   "outputs": [
    {
     "data": {
      "text/plain": [
       "'simresults_2.00yrs_rpateltest_KnownRV_2year.pickle'"
      ]
     },
     "execution_count": 13,
     "metadata": {},
     "output_type": "execute_result"
    }
   ],
   "source": [
    "simresults"
   ]
  }
 ],
 "metadata": {
  "kernelspec": {
   "display_name": "Python 2",
   "language": "python",
   "name": "python2"
  },
  "language_info": {
   "codemirror_mode": {
    "name": "ipython",
    "version": 2
   },
   "file_extension": ".py",
   "mimetype": "text/x-python",
   "name": "python",
   "nbconvert_exporter": "python",
   "pygments_lexer": "ipython2",
   "version": "2.7.10"
  },
  "widgets": {
   "state": {},
   "version": "1.1.1"
  }
 },
 "nbformat": 4,
 "nbformat_minor": 0
}
