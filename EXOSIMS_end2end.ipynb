{
 "cells": [
  {
   "cell_type": "code",
   "execution_count": 62,
   "metadata": {
    "collapsed": false
   },
   "outputs": [
    {
     "name": "stdout",
     "output_type": "stream",
     "text": [
      "Using matplotlib backend: TkAgg\n"
     ]
    }
   ],
   "source": [
    "import EXOSIMS as EX, os.path\n",
    "import EXOSIMS.MissionSim as msim\n",
    "import EXOSIMS.StarCatalog.EXOCAT1 as exc\n",
    "import numpy as np\n",
    "import math as ma\n",
    "import matplotlib.pyplot as plt\n",
    "import astropy.units as u\n",
    "import pickle, json, warnings, astropy\n",
    "%matplotlib"
   ]
  },
  {
   "cell_type": "markdown",
   "metadata": {},
   "source": [
    "###  Use script files saved in EXOSIMS path"
   ]
  },
  {
   "cell_type": "code",
   "execution_count": 63,
   "metadata": {
    "collapsed": false
   },
   "outputs": [
    {
     "name": "stdout",
     "output_type": "stream",
     "text": [
      "/Users/rpatel/Dropbox (Personal)/Research/WFIRST/EXOSIMSTesting/scripts/template_rpateltest_KnownRV_2years.json\n"
     ]
    }
   ],
   "source": [
    "# LOAD JSON SCRIPT FILE\n",
    "#jfile = 'template_WFIRST_KeplerLike.json'\n",
    "#jfile = 'template_WFIRST_EarthTwinHabZone.json'\n",
    "#jfile = 'template_WFIRST_KnownRV.json'\n",
    "#jfile = 'template_rpateltest_KnownRV.json'\n",
    "jfile = 'template_rpateltest_KnownRV_2years.json'\n",
    "scriptfile = os.path.join(os.path.abspath(''),'scripts',jfile)\n",
    "print scriptfile"
   ]
  },
  {
   "cell_type": "code",
   "execution_count": 64,
   "metadata": {
    "collapsed": false
   },
   "outputs": [],
   "source": [
    "script = open(scriptfile).read()\n",
    "specs_from_file = json.loads(script)"
   ]
  },
  {
   "cell_type": "code",
   "execution_count": 65,
   "metadata": {
    "collapsed": false,
    "scrolled": false
   },
   "outputs": [
    {
     "name": "stdout",
     "output_type": "stream",
     "text": [
      "MissionSim.py: Beginning logging to \"rpatel_log.txt\" at level INFO\n",
      "MissionSim: Seed is:  930534837\n",
      "Imported SurveyEnsemble (prototype module) from EXOSIMS.Prototypes.SurveyEnsemble\n",
      "Imported KnownRVPlanetsUniverse (specific module) from EXOSIMS.Simulat[...]se.KnownRVPlanetsUniverse\n",
      "Imported KnownRVPlanetsTargetList (specific module) from EXOSIMS.TargetList.KnownRVPlanetsTargetList\n",
      "Imported StarCatalog (prototype module) from EXOSIMS.Prototypes.StarCatalog\n",
      "Imported KasdinBraems (specific module) from EXOSIMS.OpticalSystem.KasdinBraems\n",
      "Imported Stark (specific module) from EXOSIMS.ZodiacalLight.Stark\n",
      "Imported PostProcessing (prototype module) from EXOSIMS.Prototypes.PostProcessing\n",
      "Imported GalaxiesFaintStars (specific module) from EXOSIMS.BackgroundSources.GalaxiesFaintStars\n",
      "Imported GarrettCompleteness (specific module) from EXOSIMS.Completeness.GarrettCompleteness\n",
      "Imported KnownRVPlanets (specific module) from EXOSIMS.PlanetPopulation.KnownRVPlanets\n",
      "Imported FortneyMarleyCahoyMix1 (specific module) from EXOSIMS.PlanetP[...]el.FortneyMarleyCahoyMix1\n",
      "Cached completeness file not found at \"/Users/rpatel/Dropbox/Research/WFIRST/EXOSIMS/EXOSIMS/Completeness/KnownRVPlanets9adba16e553ed4095ab1c00f0f91c208.acomp\".\n",
      "Generating completeness.\n",
      "Creating preliminary functions.\n",
      "Generating pdf of orbital radius\n",
      "Finished pdf of orbital radius\n",
      "Generating pdf of albedo times planetary radius squared\n",
      "Finished pdf of albedo times planetary radius squared\n",
      "Marginalizing joint pdf of separation and dMag up to dMagLim\n",
      "Finished marginalization\n",
      "Completeness data stored in /Users/rpatel/Dropbox/Research/WFIRST/EXOSIMS/EXOSIMS/Completeness/KnownRVPlanets9adba16e553ed4095ab1c00f0f91c208.acomp\n",
      "Imported WFIRSTObservatoryL2 (specific module) from EXOSIMS.Observatory.WFIRSTObservatoryL2\n"
     ]
    },
    {
     "name": "stderr",
     "output_type": "stream",
     "text": [
      "WARNING: ErfaWarning: ERFA function \"utctai\" yielded 44 of \"dubious year (Note 3)\" [astropy._erfa.core]\n"
     ]
    },
    {
     "name": "stdout",
     "output_type": "stream",
     "text": [
      "Imported TimeKeeping (prototype module) from EXOSIMS.Prototypes.TimeKeeping\n",
      "Imported SurveySimulation (prototype module) from EXOSIMS.Prototypes.SurveySimulation\n",
      "CPU times: user 2min 13s, sys: 10.6 s, total: 2min 24s\n",
      "Wall time: 2min 24s\n"
     ]
    }
   ],
   "source": [
    "# QUESTION -- DO I HAVE TO RUN THIS EACH TIME OR IS THERE A WAY TO SAVE/LOAD THE OUTPUT?\n",
    "%time sim = msim.MissionSim(scriptfile)"
   ]
  },
  {
   "cell_type": "code",
   "execution_count": 66,
   "metadata": {
    "collapsed": false,
    "scrolled": false
   },
   "outputs": [
    {
     "name": "stdout",
     "output_type": "stream",
     "text": [
      "Current mission time:  2.0 d\n",
      "Detected planet(s) [183] of target 140\n",
      "Characterized planet(s) [183] of target 140\n",
      "Current mission time:  4.0145695414 d\n",
      "Detected planet(s) [165] of target 124\n",
      "Characterized planet(s) [165] of target 124\n",
      "Current mission time:  6.03852285627 d\n",
      "Detected planet(s) [7] of target 6\n",
      "Characterized planet(s) [7] of target 6\n",
      "Current mission time:  8.03960145626 d\n",
      "Detected planet(s) [455] of target 360\n",
      "Characterized planet(s) [455] of target 360\n",
      "Current mission time:  10.1315994995 d\n",
      "Detected planet(s) [142] of target 107\n",
      "Characterized planet(s) [142] of target 107\n",
      "Current mission time:  12.1346877744 d\n",
      "Detected planet(s) [117] of target 87\n",
      "Characterized planet(s) [117] of target 87\n",
      "Current mission time:  14.1376333996 d\n",
      "Detected planet(s) [38 39 40] of target 27\n",
      "Characterized planet(s) [38 39 40] of target 27\n",
      "Current mission time:  16.7773637007 d\n",
      "Detected planet(s) [37] of target 26\n",
      "Characterized planet(s) [37] of target 26\n",
      "Current mission time:  18.7985363014 d\n",
      "Detected planet(s) [271] of target 206\n",
      "Characterized planet(s) [271] of target 206\n",
      "Current mission time:  20.9163227508 d\n",
      "Detected planet(s) [28] of target 19\n",
      "Characterized planet(s) [28] of target 19\n",
      "Current mission time:  22.9688114476 d\n",
      "Detected planet(s) [477] of target 376\n",
      "Characterized planet(s) [477] of target 376\n",
      "Current mission time:  24.9707493043 d\n",
      "Detected planet(s) [410] of target 319\n",
      "Characterized planet(s) [410] of target 319\n",
      "Current mission time:  26.9753431121 d\n",
      "Detected planet(s) [402] of target 313\n",
      "Characterized planet(s) [402] of target 313\n",
      "Current mission time:  28.9975396427 d\n",
      "Detected planet(s) [313] of target 241\n",
      "Characterized planet(s) [313] of target 241\n",
      "Current mission time:  31.0674759177 d\n",
      "Detected planet(s) [91] of target 65\n",
      "Characterized planet(s) [91] of target 65\n",
      "Current mission time:  33.1384114672 d\n",
      "Detected planet(s) [23] of target 14\n",
      "Characterized planet(s) [23] of target 14\n",
      "Current mission time:  35.1453620506 d\n",
      "Detected planet(s) [153] of target 114\n",
      "Characterized planet(s) [153] of target 114\n",
      "Current mission time:  37.1565755615 d\n",
      "Detected planet(s) [154] of target 115\n",
      "Characterized planet(s) [154] of target 115\n",
      "Current mission time:  39.1632406865 d\n",
      "Detected planet(s) [179] of target 136\n",
      "Characterized planet(s) [179] of target 136\n",
      "Current mission time:  41.1858400525 d\n",
      "Detected planet(s) [250] of target 191\n",
      "Characterized planet(s) [250] of target 191\n",
      "Current mission time:  43.1892532088 d\n",
      "Detected planet(s) [157] of target 118\n",
      "Characterized planet(s) [157] of target 118\n",
      "Current mission time:  45.1946746845 d\n",
      "Detected planet(s) [116] of target 86\n",
      "Characterized planet(s) [116] of target 86\n",
      "Current mission time:  47.195648664 d\n",
      "Detected planet(s) [323] of target 251\n",
      "Characterized planet(s) [323] of target 251\n",
      "Current mission time:  49.2526246559 d\n",
      "Detected planet(s) [292] of target 220\n",
      "Characterized planet(s) [292] of target 220\n",
      "Current mission time:  301.401197605 d\n",
      "Detected planet(s) [166] of target 125\n",
      "Characterized planet(s) [166] of target 125\n",
      "Current mission time:  303.420039503 d\n",
      "Detected planet(s) [311] of target 239\n",
      "Characterized planet(s) [311] of target 239\n",
      "Current mission time:  305.420805444 d\n",
      "Detected planet(s) [162] of target 121\n",
      "Characterized planet(s) [162] of target 121\n",
      "Current mission time:  307.422699392 d\n",
      "Detected planet(s) [169] of target 128\n",
      "Characterized planet(s) [169] of target 128\n",
      "Current mission time:  309.482325701 d\n",
      "Detected planet(s) [128] of target 95\n",
      "Characterized planet(s) [128] of target 95\n",
      "Current mission time:  311.524815725 d\n",
      "Detected planet(s) [174 175] of target 133\n",
      "Characterized planet(s) [174 175] of target 133\n",
      "Current mission time:  313.535124869 d\n",
      "Detected planet(s) [199] of target 149\n",
      "Characterized planet(s) [199] of target 149\n",
      "Current mission time:  315.537831183 d\n",
      "Detected planet(s) [331] of target 259\n",
      "Characterized planet(s) [331] of target 259\n",
      "Current mission time:  317.539268869 d\n",
      "Detected planet(s) [111] of target 82\n",
      "Characterized planet(s) [111] of target 82\n",
      "Current mission time:  319.546364552 d\n",
      "Detected planet(s) [384] of target 299\n",
      "Characterized planet(s) [384] of target 299\n",
      "Current mission time:  321.617822039 d\n",
      "Detected planet(s) [1] of target 1\n",
      "Characterized planet(s) [1] of target 1\n",
      "Current mission time:  323.619098037 d\n",
      "Detected planet(s) [98] of target 71\n",
      "Characterized planet(s) [98] of target 71\n",
      "Current mission time:  325.633343313 d\n",
      "Detected planet(s) [206] of target 156\n",
      "Characterized planet(s) [206] of target 156\n",
      "Current mission time:  327.636418685 d\n",
      "Detected planet(s) [163] of target 122\n",
      "Characterized planet(s) [163] of target 122\n",
      "Current mission time:  329.652147674 d\n",
      "Detected planet(s) [223] of target 170\n",
      "Characterized planet(s) [223] of target 170\n",
      "Current mission time:  331.669239251 d\n",
      "Detected planet(s) [497] of target 392\n",
      "Characterized planet(s) [497] of target 392\n",
      "Current mission time:  333.670331759 d\n",
      "Detected planet(s) [400] of target 311\n",
      "Characterized planet(s) [400] of target 311\n",
      "Current mission time:  335.691380319 d\n",
      "Detected planet(s) [221 222] of target 169\n",
      "Characterized planet(s) [221 222] of target 169\n",
      "Current mission time:  337.700872347 d\n",
      "Detected planet(s) [428] of target 334\n",
      "Characterized planet(s) [428] of target 334\n",
      "Current mission time:  339.715706972 d\n",
      "Detected planet(s) [3] of target 3\n",
      "Characterized planet(s) [3] of target 3\n",
      "Current mission time:  341.719875886 d\n",
      "Detected planet(s) [404 405] of target 315\n",
      "Characterized planet(s) [404 405] of target 315\n",
      "Current mission time:  343.77019144 d\n",
      "Detected planet(s) [296] of target 224\n",
      "Characterized planet(s) [296] of target 224\n",
      "Current mission time:  345.79093398 d\n",
      "Detected planet(s) [387 388] of target 302\n",
      "Characterized planet(s) [387 388] of target 302\n",
      "Current mission time:  347.811029804 d\n",
      "Detected planet(s) [124] of target 92\n",
      "Characterized planet(s) [124] of target 92\n",
      "Current mission time:  600.80239521 d\n",
      "Detected planet(s) [144 145 146 147] of target 109\n",
      "Characterized planet(s) [144 145 146 147] of target 109\n",
      "Current mission time:  602.812333151 d\n",
      "Detected planet(s) [137] of target 103\n",
      "Characterized planet(s) [137] of target 103\n",
      "Current mission time:  604.830615765 d\n",
      "Detected planet(s) [177 178] of target 135\n",
      "Characterized planet(s) [177 178] of target 135\n",
      "Current mission time:  606.841361684 d\n",
      "Detected planet(s) [298] of target 226\n",
      "Characterized planet(s) [298] of target 226\n",
      "Current mission time:  608.85058278 d\n",
      "Detected planet(s) [160 161] of target 120\n",
      "Characterized planet(s) [160 161] of target 120\n",
      "Current mission time:  610.877787259 d\n",
      "Detected planet(s) [27] of target 18\n",
      "Characterized planet(s) [27] of target 18\n",
      "Current mission time:  613.044851977 d\n",
      "Detected planet(s) [326] of target 254\n",
      "Characterized planet(s) [326] of target 254\n",
      "Current mission time:  615.049576426 d\n",
      "Detected planet(s) [470] of target 369\n",
      "Characterized planet(s) [470] of target 369\n",
      "Current mission time:  617.223934768 d\n",
      "Detected planet(s) [168] of target 127\n",
      "Characterized planet(s) [168] of target 127\n",
      "Current mission time:  619.232424363 d\n",
      "Detected planet(s) [139 140] of target 105\n",
      "Characterized planet(s) [139 140] of target 105\n",
      "Current mission time:  621.245752155 d\n",
      "Detected planet(s) [17 18 19] of target 10\n",
      "Characterized planet(s) [17 18 19] of target 10\n",
      "Current mission time:  623.246787052 d\n",
      "Detected planet(s) [452] of target 357\n",
      "Characterized planet(s) [452] of target 357\n",
      "Current mission time:  625.260582257 d\n",
      "Detected planet(s) [87] of target 61\n",
      "Characterized planet(s) [87] of target 61\n",
      "Current mission time:  627.280580024 d\n",
      "Detected planet(s) [306] of target 234\n",
      "Characterized planet(s) [306] of target 234\n",
      "Current mission time:  629.303681321 d\n",
      "Detected planet(s) [350] of target 271\n",
      "Characterized planet(s) [350] of target 271\n",
      "Current mission time:  631.340869985 d\n",
      "Detected planet(s) [133] of target 100\n",
      "Characterized planet(s) [133] of target 100\n",
      "Current mission time:  633.372897529 d\n",
      "Detected planet(s) [240 241] of target 183\n",
      "Characterized planet(s) [240 241] of target 183\n",
      "Current mission time:  635.375470552 d\n",
      "Detected planet(s) [151] of target 112\n",
      "Characterized planet(s) [151] of target 112\n",
      "Current mission time:  637.391138414 d\n",
      "Detected planet(s) [297] of target 225\n",
      "Characterized planet(s) [297] of target 225\n",
      "Current mission time:  639.408760526 d\n",
      "Detected planet(s) [105] of target 77\n",
      "Characterized planet(s) [105] of target 77\n",
      "Current mission time:  641.419811085 d\n",
      "Detected planet(s) [106] of target 78\n",
      "Characterized planet(s) [106] of target 78\n",
      "Current mission time:  643.433310541 d\n",
      "Detected planet(s) [361 362] of target 281\n",
      "Characterized planet(s) [361 362] of target 281\n",
      "Current mission time:  645.455154594 d\n",
      "Detected planet(s) [164] of target 123\n",
      "Characterized planet(s) [164] of target 123\n",
      "Current mission time:  647.46254058 d\n",
      "Detected planet(s) [85] of target 59\n",
      "Characterized planet(s) [85] of target 59\n",
      "Simulation finishing OK. Results stored in SurveySimulation.DRM\n",
      "CPU times: user 1min 19s, sys: 2.24 s, total: 1min 22s\n",
      "Wall time: 1min 20s\n"
     ]
    },
    {
     "data": {
      "text/plain": [
       "'Simulation finishing OK. Results stored in SurveySimulation.DRM'"
      ]
     },
     "execution_count": 66,
     "metadata": {},
     "output_type": "execute_result"
    }
   ],
   "source": [
    "%time sim.SurveySimulation.run_sim()"
   ]
  },
  {
   "cell_type": "markdown",
   "metadata": {},
   "source": [
    "## Module Objects"
   ]
  },
  {
   "cell_type": "code",
   "execution_count": 67,
   "metadata": {
    "collapsed": false,
    "scrolled": true
   },
   "outputs": [],
   "source": [
    "# Stored detection information -- if any -- in DRM Dictionary \n",
    "DRM = sim.SurveySimulation.DRM"
   ]
  },
  {
   "cell_type": "code",
   "execution_count": 68,
   "metadata": {
    "collapsed": false
   },
   "outputs": [],
   "source": [
    "# Simulation specifications ; i.e., all parameters used in simulation\n",
    "AllSpecs = sim.genOutSpec()"
   ]
  },
  {
   "cell_type": "markdown",
   "metadata": {},
   "source": [
    "# Right now, I'm loading obvious objects into local variables\n",
    "# We can add more depending on what we need for the interface"
   ]
  },
  {
   "cell_type": "markdown",
   "metadata": {},
   "source": [
    "### modules:"
   ]
  },
  {
   "cell_type": "code",
   "execution_count": 69,
   "metadata": {
    "collapsed": true
   },
   "outputs": [],
   "source": [
    "TL = sim.TargetList\n",
    "SC = sim.StarCatalog\n",
    "SU = sim.SimulatedUniverse\n",
    "SSim = sim.SurveySimulation\n",
    "OS = sim.OpticalSystem\n",
    "ZL = sim.ZodiacalLight\n",
    "BS = sim.BackgroundSources\n",
    "CP = sim.Completeness\n",
    "PP = sim.PlanetPopulation\n",
    "PM = sim.PlanetPhysicalModel"
   ]
  },
  {
   "cell_type": "markdown",
   "metadata": {},
   "source": [
    "## Stellar Properties"
   ]
  },
  {
   "cell_type": "code",
   "execution_count": 70,
   "metadata": {
    "collapsed": false
   },
   "outputs": [],
   "source": [
    "Name   = TL.Name\n",
    "Spec   = TL.Spec\n",
    "parx   = TL.parx\n",
    "Umag   = TL.Umag\n",
    "Bmag   = TL.Bmag\n",
    "Vmag   = TL.Vmag\n",
    "Rmag   = TL.Rmag\n",
    "Imag   = TL.Imag\n",
    "Jmag   = TL.Jmag\n",
    "Hmag   = TL.Hmag\n",
    "Kmag   = TL.Kmag\n",
    "dist   = TL.dist\n",
    "BV = TL.BV\n",
    "MV = TL.MV\n",
    "BC = TL.BC\n",
    "L  = TL.L\n",
    "coords = TL.coords\n",
    "pmra   = TL.pmra\n",
    "pmdec  = TL.pmdec\n",
    "rv = TL.rv\n",
    "Binary_Cut = TL.Binary_Cut\n",
    "#maxintTime = OS.maxintTime\n",
    "comp0  = TL.comp0\n",
    "MsEst  = TL.MsEst\n",
    "MsTrue = TL.MsTrue\n",
    "nStars = TL.nStars\n",
    "\n",
    "star_prop = {'Name':Name,'Spec':Spec,'parx':parx,'Umag':Umag,'Bmag':Bmag,'Vmag':Vmag,\n",
    "            'Imag':Imag,'Jmag':Jmag,'Hmag':Hmag,'Kmag':Kmag,'dist':dist,'BV':BV,\n",
    "            'MV':MV,'Lum':L,'coords':coords,'pmra':pmra,'pmdec':pmdec,'rv':rv,\n",
    "            'Binary_Cut':Binary_Cut,'comp0':comp0,'MsEst':MsEst,\n",
    "            'MsTrue':MsTrue,'nStars':nStars}#,'maxintTime':maxintTime}\n"
   ]
  },
  {
   "cell_type": "markdown",
   "metadata": {},
   "source": [
    "## Planets Generated Properties"
   ]
  },
  {
   "cell_type": "code",
   "execution_count": 71,
   "metadata": {
    "collapsed": false
   },
   "outputs": [
    {
     "name": "stdout",
     "output_type": "stream",
     "text": [
      "Sorry.. no go.\n",
      "Not simulated planets.\n"
     ]
    }
   ],
   "source": [
    "try:\n",
    "    arange = TL.arange \n",
    "    erange = TL.erange\n",
    "    wrange = TL.wrange\n",
    "    Orange = TL.Orange\n",
    "    prange = TL.prange\n",
    "    Irange = TL.Irange\n",
    "    Rrange, Mprange = TL.Rrange, TL.Mprange\n",
    "    rrange = TL.rrange\n",
    "    synplanet_prop = {'arange':arange,'erange':erange,'wrange':wrange,'Orange':Orange,\n",
    "                      'prange':prange,'Irange':Irange,'Rrange':Rrange,'Mprange':Mprange,\n",
    "                      'rrange':rrange}\n",
    "except AttributeError:\n",
    "    print 'Sorry.. no go.'\n",
    "    print 'Not simulated planets.'\n",
    "    synplanet_prop = None\n",
    "\n",
    "try:\n",
    "    nPlans, plan2star = SU.nPlans, SU.plan2star\n",
    "    sInds = SU.sInds\n",
    "    # ORBTIAL PARAMETERS\n",
    "    sma,e,w,O,I = SU.a, SU.e, SU.w, SU.O, SU.I\n",
    "    # PLANET PROPERTIES\n",
    "    Mp,Rp = SU.Mp, SU.Rp\n",
    "    # POSITION AND VELOCITY VECTOR OF PLANET\n",
    "    r, v = SU.r, SU.v\n",
    "    # ALBEDO\n",
    "    p = SU.p\n",
    "    fEZ = SU.fEZ\n",
    "\n",
    "    empplanet_prop = {'nplans':nPlans,'plan2star':plan2star,'sInds':sInds,'sma':sma,\n",
    "                      'e':e,'w':w,'O':O,'I':I,'Mp':Mp,'Rp':Rp,'r':r,'v':v,'p':p,'fEZ':fEZ}\n",
    "except AttributeError:\n",
    "    print 'Sorry.. no go.'\n",
    "    print 'Not ``real`` planets.'\n",
    "    empplanet_prop = None\n",
    "    "
   ]
  },
  {
   "cell_type": "markdown",
   "metadata": {},
   "source": [
    "## Additional simulation results -- add more as needed"
   ]
  },
  {
   "cell_type": "markdown",
   "metadata": {
    "collapsed": true
   },
   "source": [
    "# number of visits to each star -- double check\n",
    "nvisits_perstar = SU.Completeness.\n",
    "\n",
    "etc_data = {'nvisits':nvisits_perstar}"
   ]
  },
  {
   "cell_type": "markdown",
   "metadata": {},
   "source": [
    "## Dump Survey Simulation Results -- not completeness"
   ]
  },
  {
   "cell_type": "code",
   "execution_count": 72,
   "metadata": {
    "collapsed": false
   },
   "outputs": [],
   "source": [
    "mlife = AllSpecs['missionLife']\n",
    "#nsimplanets = specs_from_file['Nplanets']\n",
    "jfilebase = jfile.strip('.json').strip('template_')\n",
    "\n",
    "#simresults = 'simresults_%iyrs_%.0Estars_%s.pickle' %(mlife,nsimplanets,jfilebase)\n",
    "simresults = 'simresults_%.2fyrs_%s.pickle' %(mlife,jfilebase)\n",
    "simfile = os.path.join('/Users/rpatel/Dropbox/Research/WFIRST/EXOSIMSTesting/SimResults/',simresults)\n",
    "\n",
    "data = {'DRM':DRM,'empplanet_prop':empplanet_prop,'synplanet_prop':synplanet_prop,\n",
    "        'star_prop':star_prop,'AllSpecs':AllSpecs}#,'etc_data':etc_data}\n",
    "\n",
    "handler = open(simfile,'wb')\n",
    "pickle.dump(data,handler)\n",
    "handler.close()"
   ]
  },
  {
   "cell_type": "code",
   "execution_count": 73,
   "metadata": {
    "collapsed": false
   },
   "outputs": [
    {
     "data": {
      "text/plain": [
       "'simresults_2.00yrs_rpateltest_KnownRV_2year.pickle'"
      ]
     },
     "execution_count": 73,
     "metadata": {},
     "output_type": "execute_result"
    }
   ],
   "source": [
    "simresults"
   ]
  },
  {
   "cell_type": "code",
   "execution_count": null,
   "metadata": {
    "collapsed": true
   },
   "outputs": [],
   "source": []
  }
 ],
 "metadata": {
  "kernelspec": {
   "display_name": "Python 2",
   "language": "python",
   "name": "python2"
  },
  "language_info": {
   "codemirror_mode": {
    "name": "ipython",
    "version": 2
   },
   "file_extension": ".py",
   "mimetype": "text/x-python",
   "name": "python",
   "nbconvert_exporter": "python",
   "pygments_lexer": "ipython2",
   "version": "2.7.10"
  },
  "widgets": {
   "state": {},
   "version": "1.1.1"
  }
 },
 "nbformat": 4,
 "nbformat_minor": 0
}
