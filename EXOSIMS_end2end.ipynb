{
 "cells": [
  {
   "cell_type": "code",
   "execution_count": 129,
   "metadata": {
    "collapsed": false
   },
   "outputs": [
    {
     "name": "stdout",
     "output_type": "stream",
     "text": [
      "Using matplotlib backend: TkAgg\n"
     ]
    }
   ],
   "source": [
    "import EXOSIMS as EX, os.path\n",
    "import EXOSIMS.MissionSim as msim\n",
    "import EXOSIMS.StarCatalog.EXOCAT1 as exc\n",
    "import numpy as np\n",
    "import math as ma\n",
    "import matplotlib.pyplot as plt\n",
    "import astropy.units as u\n",
    "import pickle, json, warnings, astropy\n",
    "%matplotlib"
   ]
  },
  {
   "cell_type": "markdown",
   "metadata": {},
   "source": [
    "###  Use script files saved in EXOSIMS path"
   ]
  },
  {
   "cell_type": "code",
   "execution_count": 3,
   "metadata": {
    "collapsed": false
   },
   "outputs": [],
   "source": [
    "# LOAD JSON SCRIPT FILE\n",
    "#jfile = 'template_WFIRST_KeplerLike.json'\n",
    "#jfile = 'template_WFIRST_EarthTwinHabZone.json'\n",
    "#jfile = 'template_WFIRST_KnownRV.json'\n",
    "jfile = 'template_rpateltest_KnownRV.json'\n",
    "scriptfile = os.path.join(EX.__path__[0],'Scripts',jfile)"
   ]
  },
  {
   "cell_type": "code",
   "execution_count": 7,
   "metadata": {
    "collapsed": false
   },
   "outputs": [],
   "source": [
    "script = open(scriptfile).read()\n",
    "specs_from_file = json.loads(script)"
   ]
  },
  {
   "cell_type": "code",
   "execution_count": 11,
   "metadata": {
    "collapsed": false,
    "scrolled": false
   },
   "outputs": [
    {
     "name": "stdout",
     "output_type": "stream",
     "text": [
      "MissionSim.pyc: Beginning logging to \"rpatel_log.txt\" at level INFO\n",
      "MissionSim: Seed is:  421364179\n",
      "Imported SurveyEnsemble (prototype module) from EXOSIMS.Prototypes.SurveyEnsemble\n",
      "Imported KnownRVPlanetsUniverse (specific module) from EXOSIMS.Simulat[...]se.KnownRVPlanetsUniverse\n",
      "Imported KnownRVPlanetsTargetList (specific module) from EXOSIMS.TargetList.KnownRVPlanetsTargetList\n",
      "Imported StarCatalog (prototype module) from EXOSIMS.Prototypes.StarCatalog\n",
      "Imported Stark (specific module) from EXOSIMS.ZodiacalLight.Stark\n",
      "Imported WFIRSTOpticalSystem (specific module) from EXOSIMS.OpticalSystem.WFIRSTOpticalSystem\n",
      "Imported PostProcessing (prototype module) from EXOSIMS.Prototypes.PostProcessing\n",
      "Imported GalaxiesFaintStars (specific module) from EXOSIMS.BackgroundSources.GalaxiesFaintStars\n",
      "Imported BrownCompleteness (specific module) from EXOSIMS.Completeness.BrownCompleteness\n",
      "Imported KnownRVPlanets (specific module) from EXOSIMS.PlanetPopulation.KnownRVPlanets\n",
      "Imported FortneyMarleyCahoyMix1 (specific module) from EXOSIMS.PlanetP[...]el.FortneyMarleyCahoyMix1\n",
      "> /Users/rpatel/Dropbox/Research/WFIRST/EXOSIMS/EXOSIMS/Completeness/BrownCompleteness.py(294)genC()\n",
      "-> H = pickle.load(open(Cpath, 'rb'))\n",
      "(Pdb) c\n",
      "Loading cached completeness file from \"/Users/rpatel/Dropbox/Research/WFIRST/EXOSIMS/EXOSIMS/Completeness/KnownRVPlanetsd2a524f616563075bd74bff5e62577c9.comp\".\n",
      "Completeness loaded from cache.\n",
      "Beginning completeness update calculations\n",
      "stars: 50 / 402\n",
      "stars: 100 / 402\n",
      "stars: 150 / 402\n",
      "stars: 200 / 402\n",
      "stars: 250 / 402\n",
      "stars: 300 / 402\n",
      "stars: 350 / 402\n",
      "stars: 400 / 402\n",
      "Completeness update calculations finished\n",
      "Imported WFIRSTObservatoryL2 (specific module) from EXOSIMS.Observatory.WFIRSTObservatoryL2\n"
     ]
    },
    {
     "name": "stderr",
     "output_type": "stream",
     "text": [
      "WARNING: ErfaWarning: ERFA function \"utctai\" yielded 43 of \"dubious year (Note 3)\" [astropy._erfa.core]\n"
     ]
    },
    {
     "name": "stdout",
     "output_type": "stream",
     "text": [
      "Imported TimeKeeping (prototype module) from EXOSIMS.Prototypes.TimeKeeping\n",
      "Imported SurveySimulation (prototype module) from EXOSIMS.Prototypes.SurveySimulation\n",
      "CPU times: user 1min 24s, sys: 1.26 s, total: 1min 25s\n",
      "Wall time: 1min 26s\n"
     ]
    }
   ],
   "source": [
    "# QUESTION -- DO I HAVE TO RUN THIS EACH TIME OR IS THERE A WAY TO SAVE/LOAD THE OUTPUT?\n",
    "%time sim = msim.MissionSim(scriptfile)"
   ]
  },
  {
   "cell_type": "code",
   "execution_count": 12,
   "metadata": {
    "collapsed": false,
    "scrolled": false
   },
   "outputs": [
    {
     "name": "stderr",
     "output_type": "stream",
     "text": [
      "WARNING: ErfaWarning: ERFA function \"utctai\" yielded 1 of \"dubious year (Note 3)\" [astropy._erfa.core]\n"
     ]
    },
    {
     "name": "stdout",
     "output_type": "stream",
     "text": [
      "Current mission time:  0.0 d\n"
     ]
    },
    {
     "name": "stderr",
     "output_type": "stream",
     "text": [
      "/Users/rpatel/Documents/envs/py27/lib/python2.7/site-packages/astropy/units/quantity.py:841: RuntimeWarning: divide by zero encountered in true_divide\n",
      "  return super(Quantity, self).__truediv__(other)\n"
     ]
    },
    {
     "name": "stdout",
     "output_type": "stream",
     "text": [
      "Current mission time:  1.12493453415 d\n",
      "Current mission time:  2.16626982299 d\n",
      "Current mission time:  5.46291443034 d\n",
      "Current mission time:  6.4630578571 d\n",
      "Current mission time:  7.69879943601 d\n",
      "Current mission time:  8.70015039416 d\n",
      "Current mission time:  9.70502778317 d\n",
      "Current mission time:  10.7063909151 d\n",
      "Current mission time:  11.7308165606 d\n",
      "Current mission time:  12.730926201 d\n",
      "Current mission time:  84.6269356979 d\n",
      "Current mission time:  91.9124136504 d\n",
      "Current mission time:  92.9125828152 d\n",
      "Current mission time:  93.9141891297 d\n",
      "Current mission time:  95.1255920192 d\n",
      "Current mission time:  96.1258024269 d\n",
      "Current mission time:  97.1262776025 d\n",
      "Current mission time:  169.00023075 d\n",
      "Current mission time:  174.446185604 d\n",
      "Current mission time:  175.47840714 d\n",
      "Current mission time:  176.481249945 d\n",
      "Current mission time:  177.482867487 d\n",
      "Current mission time:  261.075208856 d\n",
      "Current mission time:  262.268020387 d\n",
      "Current mission time:  263.269191634 d\n",
      "Current mission time:  339.483660892 d\n",
      "Current mission time:  340.483684186 d\n",
      "Current mission time:  341.483773511 d\n",
      "Current mission time:  342.483773543 d\n",
      "Current mission time:  343.487459968 d\n",
      "Current mission time:  344.489961715 d\n",
      "Current mission time:  345.490319643 d\n",
      "Current mission time:  346.494086587 d\n",
      "Current mission time:  347.495449719 d\n",
      "Current mission time:  421.816337912 d\n",
      "Current mission time:  422.855407767 d\n",
      "Current mission time:  423.856490607 d\n",
      "Current mission time:  424.857777659 d\n",
      "Current mission time:  425.877849585 d\n",
      "Current mission time:  426.96219214 d\n",
      "Current mission time:  427.96327498 d\n",
      "Current mission time:  428.963418407 d\n",
      "Current mission time:  429.965024721 d\n",
      "Current mission time:  430.965497728 d\n",
      "Current mission time:  431.978006198 d\n",
      "Current mission time:  432.979279185 d\n",
      "Current mission time:  433.979279217 d\n",
      "Current mission time:  507.869988589 d\n",
      "Current mission time:  508.87106862 d\n",
      "Current mission time:  511.855521381 d\n",
      "Current mission time:  512.855562756 d\n",
      "Current mission time:  513.893663952 d\n",
      "Current mission time:  514.894939143 d\n",
      "Current mission time:  515.894956411 d\n",
      "Current mission time:  516.897993242 d\n",
      "Current mission time:  594.852234786 d\n",
      "Current mission time:  601.115217724 d\n",
      "Current mission time:  673.004448011 d\n",
      "Current mission time:  674.474823938 d\n",
      "Current mission time:  675.476638489 d\n",
      "Current mission time:  676.47745812 d\n",
      "Current mission time:  677.481693054 d\n",
      "Current mission time:  678.481954466 d\n",
      "Current mission time:  679.48205093 d\n",
      "Current mission time:  680.482081496 d\n",
      "Current mission time:  681.482904582 d\n",
      "Current mission time:  682.875100023 d\n",
      "Current mission time:  683.878018845 d\n",
      "Current mission time:  684.879425391 d\n",
      "Current mission time:  685.879425421 d\n",
      "Survey simulation: finishing OK\n",
      "CPU times: user 33min 20s, sys: 20.4 s, total: 33min 40s\n",
      "Wall time: 33min 31s\n"
     ]
    },
    {
     "data": {
      "text/plain": [
       "'Simulation results in .DRM'"
      ]
     },
     "execution_count": 12,
     "metadata": {},
     "output_type": "execute_result"
    }
   ],
   "source": [
    "%time sim.SurveySimulation.run_sim()"
   ]
  },
  {
   "cell_type": "markdown",
   "metadata": {},
   "source": [
    "## Module Objects"
   ]
  },
  {
   "cell_type": "code",
   "execution_count": 244,
   "metadata": {
    "collapsed": false,
    "scrolled": true
   },
   "outputs": [],
   "source": [
    "# Stored detection information -- if any -- in DRM Dictionary \n",
    "DRM = sim.SurveySimulation.DRM"
   ]
  },
  {
   "cell_type": "code",
   "execution_count": 224,
   "metadata": {
    "collapsed": false
   },
   "outputs": [
    {
     "name": "stdout",
     "output_type": "stream",
     "text": [
      "The slowest run took 13.10 times longer than the fastest. This could mean that an intermediate result is being cached.\n",
      "10000 loops, best of 3: 22.5 µs per loop\n"
     ]
    }
   ],
   "source": [
    "# Simulation specifications ; i.e., all parameters used in simulation\n",
    "AllSpecs = sim.genOutSpec()"
   ]
  },
  {
   "cell_type": "markdown",
   "metadata": {},
   "source": [
    "# Right now, I'm loading obvious objects into local variables\n",
    "# We can add more depending on what we need for the interface"
   ]
  },
  {
   "cell_type": "markdown",
   "metadata": {},
   "source": [
    "### modules:"
   ]
  },
  {
   "cell_type": "code",
   "execution_count": 237,
   "metadata": {
    "collapsed": true
   },
   "outputs": [],
   "source": [
    "TL = sim.TargetList\n",
    "SC = sim.StarCatalog\n",
    "SU = sim.SimulatedUniverse\n",
    "SSim = sim.SurveySimulation\n",
    "OS = sim.OpticalSystem\n",
    "ZL = sim.ZodiacalLight\n",
    "BS = sim.BackgroundSources\n",
    "CP = sim.Completeness\n",
    "PP = sim.PlanetPopulation\n",
    "PM = sim.PlanetPhysicalModel"
   ]
  },
  {
   "cell_type": "markdown",
   "metadata": {},
   "source": [
    "## Stellar Properties"
   ]
  },
  {
   "cell_type": "code",
   "execution_count": 213,
   "metadata": {
    "collapsed": false
   },
   "outputs": [],
   "source": [
    "Name   = TL.Name\n",
    "Spec   = TL.Spec\n",
    "parx   = TL.parx\n",
    "Umag   = TL.Umag\n",
    "Bmag   = TL.Bmag\n",
    "Vmag   = TL.Vmag\n",
    "Rmag   = TL.Rmag\n",
    "Imag   = TL.Imag\n",
    "Jmag   = TL.Jmag\n",
    "Hmag   = TL.Hmag\n",
    "Kmag   = TL.Kmag\n",
    "dist   = TL.dist\n",
    "BV = TL.BV\n",
    "MV = TL.MV\n",
    "BC = TL.BC\n",
    "L  = TL.L\n",
    "coords = TL.coords\n",
    "pmra   = TL.pmra\n",
    "pmdec  = TL.pmdec\n",
    "rv = TL.rv\n",
    "Binary_Cut = TL.Binary_Cut\n",
    "maxintTime = TL.maxintTime\n",
    "comp0  = TL.comp0\n",
    "MsEst  = TL.MsEst\n",
    "MsTrue = TL.MsTrue\n",
    "nStars = TL.nStars\n",
    "\n",
    "star_prop = {'Name':Name,'Spec':Spec,'parx':parx,'Umag':Umag,'Bmag':Bmag,'Vmag':Vmag,\n",
    "            'Imag':Imag,'Jmag':Jmag,'Hmag':Hmag,'Kmag':Kmag,'dist':dist,'BV':BV,\n",
    "            'MV':MV,'Lum':L,'coords':coords,'pmra':pmra,'pmdec':pmdec,'rv':rv,\n",
    "            'Binary_Cut':Binary_Cut,'maxintTime':maxintTime,'comp0':comp0,'MsEst':MsEst,\n",
    "            'MsTrue':MsTrue,'nStars':nStars}\n"
   ]
  },
  {
   "cell_type": "markdown",
   "metadata": {},
   "source": [
    "## Planets Generated Properties"
   ]
  },
  {
   "cell_type": "code",
   "execution_count": 217,
   "metadata": {
    "collapsed": false
   },
   "outputs": [
    {
     "name": "stdout",
     "output_type": "stream",
     "text": [
      "Sorry.. no go.\n",
      "Not simulated planets.\n"
     ]
    }
   ],
   "source": [
    "try:\n",
    "    arange = TL.arange\n",
    "    erange = TL.erange\n",
    "    wrange = TL.wrange\n",
    "    Orange = TL.Orange\n",
    "    prange = TL.prange\n",
    "    Irange = TL.Irange\n",
    "    Rrange, Mprange = TL.Rrange, TL.Mprange\n",
    "    rrange = TL.rrange\n",
    "    synplanet_prop = {'arange':arange,'erange':erange,'wrange':wrange,'Orange':Orange,\n",
    "                      'prange':prange,'Irange':Irange,'Rrange':Rrange,'Mprange':Mprange,\n",
    "                      'rrange':rrange}\n",
    "except AttributeError:\n",
    "    print 'Sorry.. no go.'\n",
    "    print 'Not simulated planets.'\n",
    "    synplanet_prop = None\n",
    "\n",
    "try:\n",
    "    nPlans, plan2star = SU.nPlans, SU.plan2star\n",
    "    sInds = SU.sInds\n",
    "    # ORBTIAL PARAMETERS\n",
    "    sma,e,w,O,I = SU.a, SU.e, SU.w, SU.O, SU.I\n",
    "    # PLANET PROPERTIES\n",
    "    Mp,Rp = SU.Mp, SU.Rp\n",
    "    # POSITION AND VELOCITY VECTOR OF PLANET\n",
    "    r, v = SU.r, SU.v\n",
    "    # ALBEDO\n",
    "    p = SU.p\n",
    "    fEZ = SU.fEZ\n",
    "\n",
    "    empplanet_prop = {'nplans':nPlans,'plan2star':plan2star,'sInds':sInds,'sma':sma,\n",
    "                      'e':e,'w':w,'O':O,'I':I,'Mp':Mp,'Rp':Rp,'r':r,'v':v,'p':p,'fEZ':fEZ}\n",
    "except AttributeError:\n",
    "    print 'Sorry.. no go.'\n",
    "    print 'Not ``real`` planets.'\n",
    "    empplanet_prop = None\n",
    "    "
   ]
  },
  {
   "cell_type": "code",
   "execution_count": 115,
   "metadata": {
    "collapsed": false
   },
   "outputs": [
    {
     "name": "stdout",
     "output_type": "stream",
     "text": [
      "planet index [286 287 288 289]\n",
      "target index 219\n",
      "HD 219134\n"
     ]
    },
    {
     "data": {
      "text/latex": [
       "$[0.038472995,~0.064809344,~0.2351092,~0.14570695] \\; \\mathrm{AU}$"
      ],
      "text/plain": [
       "<Quantity [ 0.038473  , 0.06480934, 0.2351092 , 0.14570695] AU>"
      ]
     },
     "execution_count": 115,
     "metadata": {},
     "output_type": "execute_result"
    }
   ],
   "source": [
    "print 'planet index',planet_detind[14]\n",
    "print 'target index', target_obsind[14]\n",
    "print Name[219]\n",
    "sma[planet_detind[14]]"
   ]
  },
  {
   "cell_type": "markdown",
   "metadata": {},
   "source": [
    "## Additional simulation results -- add more as needed"
   ]
  },
  {
   "cell_type": "code",
   "execution_count": 253,
   "metadata": {
    "collapsed": true
   },
   "outputs": [],
   "source": [
    "# number of visits to each star -- double check\n",
    "nvisits_perstar = SU.Completeness.visits\n",
    "\n",
    "etc_data = {'nvisits':nvisits_perstar}"
   ]
  },
  {
   "cell_type": "markdown",
   "metadata": {},
   "source": [
    "## Dump Survey Simulation Results -- not completeness"
   ]
  },
  {
   "cell_type": "code",
   "execution_count": 258,
   "metadata": {
    "collapsed": false
   },
   "outputs": [],
   "source": [
    "mlife = AllSpecs['missionLife']\n",
    "nsimplanets = specs_from_file['Nplanets']\n",
    "jfilebase = jfile.strip('.json').strip('template_')\n",
    "\n",
    "simresults = 'simresults_%iyrs_%.0Estars_%s.pickle' %(mlife,nsimplanets,jfilebase)\n",
    "simfile = os.path.join('/Users/rpatel/Dropbox/Research/WFIRST/EXOSIMSTesting/SimResults/',simresults)\n",
    "\n",
    "data = {'DRM':DRM,'empplanet_prop':empplanet_prop,'synplanet_prop':synplanet_prop,\n",
    "        'star_prop':star_prop,'AllSpecs':AllSpecs,'etc_data':etc_data}\n",
    "\n",
    "handler = open(simfile,'wb')\n",
    "pickle.dump(data,handler)\n",
    "handler.close()"
   ]
  }
 ],
 "metadata": {
  "kernelspec": {
   "display_name": "Python 2",
   "language": "python",
   "name": "python2"
  },
  "language_info": {
   "codemirror_mode": {
    "name": "ipython",
    "version": 2
   },
   "file_extension": ".py",
   "mimetype": "text/x-python",
   "name": "python",
   "nbconvert_exporter": "python",
   "pygments_lexer": "ipython2",
   "version": "2.7.10"
  },
  "widgets": {
   "state": {},
   "version": "1.1.1"
  }
 },
 "nbformat": 4,
 "nbformat_minor": 0
}
