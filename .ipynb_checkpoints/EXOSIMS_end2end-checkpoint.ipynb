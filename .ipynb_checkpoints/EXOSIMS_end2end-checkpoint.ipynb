{
 "cells": [
  {
   "cell_type": "code",
   "execution_count": 1,
   "metadata": {
    "collapsed": false
   },
   "outputs": [
    {
     "name": "stdout",
     "output_type": "stream",
     "text": [
      "Using matplotlib backend: TkAgg\n"
     ]
    }
   ],
   "source": [
    "import EXOSIMS as EX, os.path\n",
    "import EXOSIMS.MissionSim as msim\n",
    "import EXOSIMS.StarCatalog.EXOCAT1 as exc\n",
    "import numpy as np\n",
    "import math as ma\n",
    "import matplotlib.pyplot as plt\n",
    "import astropy.units as u\n",
    "import pickle, json, warnings, astropy\n",
    "%matplotlib"
   ]
  },
  {
   "cell_type": "markdown",
   "metadata": {},
   "source": [
    "###  Use script files saved in EXOSIMS path"
   ]
  },
  {
   "cell_type": "code",
   "execution_count": 38,
   "metadata": {
    "collapsed": false
   },
   "outputs": [
    {
     "name": "stdout",
     "output_type": "stream",
     "text": [
      "/Users/rpatel/Dropbox (Personal)/Research/WFIRST/EXOSIMSTesting/scripts/template_rpateltest_KnownRV.json\n"
     ]
    }
   ],
   "source": [
    "# LOAD JSON SCRIPT FILE\n",
    "#jfile = 'template_WFIRST_KeplerLike.json'\n",
    "#jfile = 'template_WFIRST_EarthTwinHabZone.json'\n",
    "#jfile = 'template_WFIRST_KnownRV.json'\n",
    "jfile = 'template_rpateltest_KnownRV.json'\n",
    "scriptfile = os.path.join(os.path.abspath(''),'scripts',jfile)\n",
    "print scriptfile"
   ]
  },
  {
   "cell_type": "code",
   "execution_count": 39,
   "metadata": {
    "collapsed": false
   },
   "outputs": [],
   "source": [
    "script = open(scriptfile).read()\n",
    "specs_from_file = json.loads(script)"
   ]
  },
  {
   "cell_type": "code",
   "execution_count": 40,
   "metadata": {
    "collapsed": false,
    "scrolled": false
   },
   "outputs": [
    {
     "name": "stdout",
     "output_type": "stream",
     "text": [
      "MissionSim.py: Beginning logging to \"rpatel_log.txt\" at level INFO\n",
      "MissionSim: Seed is:  986856823\n",
      "Imported SurveyEnsemble (prototype module) from EXOSIMS.Prototypes.SurveyEnsemble\n",
      "Imported KnownRVPlanetsUniverse (specific module) from EXOSIMS.Simulat[...]se.KnownRVPlanetsUniverse\n",
      "Imported KnownRVPlanetsTargetList (specific module) from EXOSIMS.TargetList.KnownRVPlanetsTargetList\n",
      "Imported StarCatalog (prototype module) from EXOSIMS.Prototypes.StarCatalog\n",
      "Imported KasdinBraems (specific module) from EXOSIMS.OpticalSystem.KasdinBraems\n",
      "Imported Stark (specific module) from EXOSIMS.ZodiacalLight.Stark\n",
      "Imported PostProcessing (prototype module) from EXOSIMS.Prototypes.PostProcessing\n",
      "Imported GalaxiesFaintStars (specific module) from EXOSIMS.BackgroundSources.GalaxiesFaintStars\n",
      "Imported GarrettCompleteness (specific module) from EXOSIMS.Completeness.GarrettCompleteness\n",
      "Imported KnownRVPlanets (specific module) from EXOSIMS.PlanetPopulation.KnownRVPlanets\n",
      "Imported FortneyMarleyCahoyMix1 (specific module) from EXOSIMS.PlanetP[...]el.FortneyMarleyCahoyMix1\n",
      "Cached completeness file not found at \"/Users/rpatel/Dropbox/Research/WFIRST/EXOSIMS/EXOSIMS/Completeness/KnownRVPlanets9adba16e553ed4095ab1c00f0f91c208.acomp\".\n",
      "Generating completeness.\n",
      "Creating preliminary functions.\n",
      "Generating pdf of orbital radius\n",
      "Finished pdf of orbital radius\n",
      "Generating pdf of albedo times planetary radius squared\n",
      "Finished pdf of albedo times planetary radius squared\n",
      "Marginalizing joint pdf of separation and dMag up to dMagLim\n",
      "Finished marginalization\n",
      "Completeness data stored in /Users/rpatel/Dropbox/Research/WFIRST/EXOSIMS/EXOSIMS/Completeness/KnownRVPlanets9adba16e553ed4095ab1c00f0f91c208.acomp\n",
      "Imported WFIRSTObservatoryL2 (specific module) from EXOSIMS.Observatory.WFIRSTObservatoryL2\n"
     ]
    },
    {
     "name": "stderr",
     "output_type": "stream",
     "text": [
      "WARNING: ErfaWarning: ERFA function \"utctai\" yielded 39 of \"dubious year (Note 3)\" [astropy._erfa.core]\n"
     ]
    },
    {
     "name": "stdout",
     "output_type": "stream",
     "text": [
      "Imported TimeKeeping (prototype module) from EXOSIMS.Prototypes.TimeKeeping\n",
      "Imported SurveySimulation (prototype module) from EXOSIMS.Prototypes.SurveySimulation\n",
      "CPU times: user 2min 13s, sys: 11.1 s, total: 2min 24s\n",
      "Wall time: 2min 24s\n"
     ]
    }
   ],
   "source": [
    "# QUESTION -- DO I HAVE TO RUN THIS EACH TIME OR IS THERE A WAY TO SAVE/LOAD THE OUTPUT?\n",
    "%time sim = msim.MissionSim(scriptfile)"
   ]
  },
  {
   "cell_type": "code",
   "execution_count": 41,
   "metadata": {
    "collapsed": false,
    "scrolled": false
   },
   "outputs": [
    {
     "name": "stderr",
     "output_type": "stream",
     "text": [
      "WARNING: ErfaWarning: ERFA function \"utctai\" yielded 1 of \"dubious year (Note 3)\" [astropy._erfa.core]\n"
     ]
    },
    {
     "name": "stdout",
     "output_type": "stream",
     "text": [
      "Current mission time:  2.0 d\n",
      "Detected planet(s) [139 140] of target 105\n",
      "Characterized planet(s) [139 140] of target 105\n",
      "Current mission time:  4.01336262333 d\n",
      "Detected planet(s) [467] of target 367\n",
      "Characterized planet(s) [467] of target 367\n",
      "Current mission time:  6.02054995392 d\n",
      "Detected planet(s) [369] of target 286\n",
      "Characterized planet(s) [369] of target 286\n",
      "Current mission time:  8.02215311897 d\n",
      "Detected planet(s) [496] of target 391\n",
      "Characterized planet(s) [496] of target 391\n",
      "Current mission time:  10.0224007698 d\n",
      "Detected planet(s) [128] of target 95\n",
      "Characterized planet(s) [128] of target 95\n",
      "Current mission time:  12.0648244598 d\n",
      "Detected planet(s) [279] of target 213\n",
      "Characterized planet(s) [279] of target 213\n",
      "Current mission time:  14.0682925288 d\n",
      "Detected planet(s) [42] of target 29\n",
      "Characterized planet(s) [42] of target 29\n",
      "Current mission time:  16.0739566389 d\n",
      "Detected planet(s) [286 287 288 289 290 291] of target 219\n",
      "Characterized planet(s) [286 287 288 289 290 291] of target 219\n",
      "Current mission time:  18.0761368819 d\n",
      "Detected planet(s) [174 175] of target 133\n",
      "Characterized planet(s) [174 175] of target 133\n",
      "Current mission time:  20.0864359207 d\n",
      "Detected planet(s) [365 366] of target 284\n",
      "Characterized planet(s) [365 366] of target 284\n",
      "Current mission time:  22.1011272647 d\n",
      "Detected planet(s) [169] of target 128\n",
      "Characterized planet(s) [169] of target 128\n",
      "Current mission time:  24.1604946311 d\n",
      "Detected planet(s) [384] of target 299\n",
      "Characterized planet(s) [384] of target 299\n",
      "Current mission time:  26.2319026785 d\n",
      "Detected planet(s) [55] of target 38\n",
      "Characterized planet(s) [55] of target 38\n",
      "Current mission time:  28.2884985498 d\n",
      "Detected planet(s) [203] of target 153\n",
      "Characterized planet(s) [203] of target 153\n",
      "Current mission time:  30.296798421 d\n",
      "Detected planet(s) [172] of target 131\n",
      "Characterized planet(s) [172] of target 131\n",
      "Current mission time:  32.3034272839 d\n",
      "Detected planet(s) [370] of target 287\n",
      "Characterized planet(s) [370] of target 287\n",
      "Current mission time:  34.3250993241 d\n",
      "Detected planet(s) [197 198] of target 148\n",
      "Characterized planet(s) [197 198] of target 148\n",
      "Current mission time:  36.3453505354 d\n",
      "Detected planet(s) [413] of target 322\n",
      "Characterized planet(s) [413] of target 322\n",
      "Current mission time:  38.3692383001 d\n",
      "Detected planet(s) [472] of target 371\n",
      "Characterized planet(s) [472] of target 371\n",
      "Current mission time:  40.3695025164 d\n",
      "Detected planet(s) [320] of target 248\n",
      "Characterized planet(s) [320] of target 248\n",
      "Current mission time:  42.372506378 d\n",
      "Detected planet(s) [315] of target 243\n",
      "Characterized planet(s) [315] of target 243\n",
      "Current mission time:  44.3879837826 d\n",
      "Detected planet(s) [144 145 146 147] of target 109\n",
      "Characterized planet(s) [144 145 146 147] of target 109\n",
      "Current mission time:  46.3979119276 d\n",
      "Detected planet(s) [250] of target 191\n",
      "Characterized planet(s) [250] of target 191\n",
      "Current mission time:  48.4013249623 d\n",
      "Detected planet(s) [23] of target 14\n",
      "Characterized planet(s) [23] of target 14\n",
      "Simulation finishing OK. Results stored in SurveySimulation.DRM\n",
      "CPU times: user 26.9 s, sys: 831 ms, total: 27.7 s\n",
      "Wall time: 27.4 s\n"
     ]
    },
    {
     "data": {
      "text/plain": [
       "'Simulation finishing OK. Results stored in SurveySimulation.DRM'"
      ]
     },
     "execution_count": 41,
     "metadata": {},
     "output_type": "execute_result"
    }
   ],
   "source": [
    "%time sim.SurveySimulation.run_sim()"
   ]
  },
  {
   "cell_type": "markdown",
   "metadata": {},
   "source": [
    "## Module Objects"
   ]
  },
  {
   "cell_type": "code",
   "execution_count": 42,
   "metadata": {
    "collapsed": false,
    "scrolled": true
   },
   "outputs": [],
   "source": [
    "# Stored detection information -- if any -- in DRM Dictionary \n",
    "DRM = sim.SurveySimulation.DRM"
   ]
  },
  {
   "cell_type": "code",
   "execution_count": 43,
   "metadata": {
    "collapsed": false
   },
   "outputs": [],
   "source": [
    "# Simulation specifications ; i.e., all parameters used in simulation\n",
    "AllSpecs = sim.genOutSpec()"
   ]
  },
  {
   "cell_type": "markdown",
   "metadata": {},
   "source": [
    "# Right now, I'm loading obvious objects into local variables\n",
    "# We can add more depending on what we need for the interface"
   ]
  },
  {
   "cell_type": "markdown",
   "metadata": {},
   "source": [
    "### modules:"
   ]
  },
  {
   "cell_type": "code",
   "execution_count": 44,
   "metadata": {
    "collapsed": true
   },
   "outputs": [],
   "source": [
    "TL = sim.TargetList\n",
    "SC = sim.StarCatalog\n",
    "SU = sim.SimulatedUniverse\n",
    "SSim = sim.SurveySimulation\n",
    "OS = sim.OpticalSystem\n",
    "ZL = sim.ZodiacalLight\n",
    "BS = sim.BackgroundSources\n",
    "CP = sim.Completeness\n",
    "PP = sim.PlanetPopulation\n",
    "PM = sim.PlanetPhysicalModel"
   ]
  },
  {
   "cell_type": "markdown",
   "metadata": {},
   "source": [
    "## Stellar Properties"
   ]
  },
  {
   "cell_type": "code",
   "execution_count": 50,
   "metadata": {
    "collapsed": false
   },
   "outputs": [],
   "source": [
    "Name   = TL.Name\n",
    "Spec   = TL.Spec\n",
    "parx   = TL.parx\n",
    "Umag   = TL.Umag\n",
    "Bmag   = TL.Bmag\n",
    "Vmag   = TL.Vmag\n",
    "Rmag   = TL.Rmag\n",
    "Imag   = TL.Imag\n",
    "Jmag   = TL.Jmag\n",
    "Hmag   = TL.Hmag\n",
    "Kmag   = TL.Kmag\n",
    "dist   = TL.dist\n",
    "BV = TL.BV\n",
    "MV = TL.MV\n",
    "BC = TL.BC\n",
    "L  = TL.L\n",
    "coords = TL.coords\n",
    "pmra   = TL.pmra\n",
    "pmdec  = TL.pmdec\n",
    "rv = TL.rv\n",
    "Binary_Cut = TL.Binary_Cut\n",
    "#maxintTime = OS.maxintTime\n",
    "comp0  = TL.comp0\n",
    "MsEst  = TL.MsEst\n",
    "MsTrue = TL.MsTrue\n",
    "nStars = TL.nStars\n",
    "\n",
    "star_prop = {'Name':Name,'Spec':Spec,'parx':parx,'Umag':Umag,'Bmag':Bmag,'Vmag':Vmag,\n",
    "            'Imag':Imag,'Jmag':Jmag,'Hmag':Hmag,'Kmag':Kmag,'dist':dist,'BV':BV,\n",
    "            'MV':MV,'Lum':L,'coords':coords,'pmra':pmra,'pmdec':pmdec,'rv':rv,\n",
    "            'Binary_Cut':Binary_Cut,'comp0':comp0,'MsEst':MsEst,\n",
    "            'MsTrue':MsTrue,'nStars':nStars}#,'maxintTime':maxintTime}\n"
   ]
  },
  {
   "cell_type": "markdown",
   "metadata": {},
   "source": [
    "## Planets Generated Properties"
   ]
  },
  {
   "cell_type": "code",
   "execution_count": 51,
   "metadata": {
    "collapsed": false
   },
   "outputs": [
    {
     "name": "stdout",
     "output_type": "stream",
     "text": [
      "Sorry.. no go.\n",
      "Not simulated planets.\n"
     ]
    }
   ],
   "source": [
    "try:\n",
    "    arange = TL.arange\n",
    "    erange = TL.erange\n",
    "    wrange = TL.wrange\n",
    "    Orange = TL.Orange\n",
    "    prange = TL.prange\n",
    "    Irange = TL.Irange\n",
    "    Rrange, Mprange = TL.Rrange, TL.Mprange\n",
    "    rrange = TL.rrange\n",
    "    synplanet_prop = {'arange':arange,'erange':erange,'wrange':wrange,'Orange':Orange,\n",
    "                      'prange':prange,'Irange':Irange,'Rrange':Rrange,'Mprange':Mprange,\n",
    "                      'rrange':rrange}\n",
    "except AttributeError:\n",
    "    print 'Sorry.. no go.'\n",
    "    print 'Not simulated planets.'\n",
    "    synplanet_prop = None\n",
    "\n",
    "try:\n",
    "    nPlans, plan2star = SU.nPlans, SU.plan2star\n",
    "    sInds = SU.sInds\n",
    "    # ORBTIAL PARAMETERS\n",
    "    sma,e,w,O,I = SU.a, SU.e, SU.w, SU.O, SU.I\n",
    "    # PLANET PROPERTIES\n",
    "    Mp,Rp = SU.Mp, SU.Rp\n",
    "    # POSITION AND VELOCITY VECTOR OF PLANET\n",
    "    r, v = SU.r, SU.v\n",
    "    # ALBEDO\n",
    "    p = SU.p\n",
    "    fEZ = SU.fEZ\n",
    "\n",
    "    empplanet_prop = {'nplans':nPlans,'plan2star':plan2star,'sInds':sInds,'sma':sma,\n",
    "                      'e':e,'w':w,'O':O,'I':I,'Mp':Mp,'Rp':Rp,'r':r,'v':v,'p':p,'fEZ':fEZ}\n",
    "except AttributeError:\n",
    "    print 'Sorry.. no go.'\n",
    "    print 'Not ``real`` planets.'\n",
    "    empplanet_prop = None\n",
    "    "
   ]
  },
  {
   "cell_type": "markdown",
   "metadata": {},
   "source": [
    "## Additional simulation results -- add more as needed"
   ]
  },
  {
   "cell_type": "markdown",
   "metadata": {
    "collapsed": true
   },
   "source": [
    "# number of visits to each star -- double check\n",
    "nvisits_perstar = SU.Completeness.\n",
    "\n",
    "etc_data = {'nvisits':nvisits_perstar}"
   ]
  },
  {
   "cell_type": "markdown",
   "metadata": {},
   "source": [
    "## Dump Survey Simulation Results -- not completeness"
   ]
  },
  {
   "cell_type": "code",
   "execution_count": 58,
   "metadata": {
    "collapsed": false
   },
   "outputs": [],
   "source": [
    "mlife = AllSpecs['missionLife']\n",
    "#nsimplanets = specs_from_file['Nplanets']\n",
    "jfilebase = jfile.strip('.json').strip('template_')\n",
    "\n",
    "#simresults = 'simresults_%iyrs_%.0Estars_%s.pickle' %(mlife,nsimplanets,jfilebase)\n",
    "simresults = 'simresults_%.2fyrs_%s.pickle' %(mlife,jfilebase)\n",
    "simfile = os.path.join('/Users/rpatel/Dropbox/Research/WFIRST/EXOSIMSTesting/SimResults/',simresults)\n",
    "\n",
    "data = {'DRM':DRM,'empplanet_prop':empplanet_prop,'synplanet_prop':synplanet_prop,\n",
    "        'star_prop':star_prop,'AllSpecs':AllSpecs}#,'etc_data':etc_data}\n",
    "\n",
    "handler = open(simfile,'wb')\n",
    "pickle.dump(data,handler)\n",
    "handler.close()"
   ]
  },
  {
   "cell_type": "code",
   "execution_count": 59,
   "metadata": {
    "collapsed": false
   },
   "outputs": [
    {
     "data": {
      "text/plain": [
       "'simresults_0yrs_rpateltest_KnownRV.pickle'"
      ]
     },
     "execution_count": 59,
     "metadata": {},
     "output_type": "execute_result"
    }
   ],
   "source": [
    "simresults"
   ]
  },
  {
   "cell_type": "code",
   "execution_count": null,
   "metadata": {
    "collapsed": true
   },
   "outputs": [],
   "source": []
  }
 ],
 "metadata": {
  "kernelspec": {
   "display_name": "Python 2",
   "language": "python",
   "name": "python2"
  },
  "language_info": {
   "codemirror_mode": {
    "name": "ipython",
    "version": 2
   },
   "file_extension": ".py",
   "mimetype": "text/x-python",
   "name": "python",
   "nbconvert_exporter": "python",
   "pygments_lexer": "ipython2",
   "version": "2.7.10"
  },
  "widgets": {
   "state": {},
   "version": "1.1.1"
  }
 },
 "nbformat": 4,
 "nbformat_minor": 0
}
